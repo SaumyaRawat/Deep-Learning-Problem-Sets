{
 "cells": [
  {
   "cell_type": "code",
   "execution_count": 1,
   "metadata": {},
   "outputs": [
    {
     "name": "stderr",
     "output_type": "stream",
     "text": [
      "Using TensorFlow backend.\n"
     ]
    }
   ],
   "source": [
    "import numpy as np\n",
    "from numpy import array\n",
    "from time import time\n",
    "\n",
    "from sklearn.preprocessing import OneHotEncoder\n",
    "from sklearn.metrics import classification_report\n",
    "\n",
    "import keras\n",
    "from keras.models import Sequential\n",
    "from keras.layers import Dense, Activation, Dropout, Flatten, Conv2D, MaxPooling2D\n",
    "from keras.optimizers import SGD, Adam\n",
    "from keras.utils import to_categorical\n",
    "from keras.callbacks import TensorBoard\n",
    "\n",
    "import matplotlib.pyplot as plt\n",
    "\n",
    "\n",
    "\n"
   ]
  },
  {
   "cell_type": "markdown",
   "metadata": {},
   "source": [
    "## Load Data\n"
   ]
  },
  {
   "cell_type": "code",
   "execution_count": 2,
   "metadata": {},
   "outputs": [],
   "source": [
    "train_data = np.load(\"MNIST/trainImages.npy\")\n",
    "test_data = np.load(\"MNIST/testImages.npy\")\n",
    "\n",
    "y_train = np.load(\"MNIST/trainLabels.npy\")\n",
    "y_test = np.load(\"MNIST/testLabels.npy\")\n",
    "\n"
   ]
  },
  {
   "cell_type": "markdown",
   "metadata": {},
   "source": [
    "## Pre-process data\n",
    "1. Standardize dataset\n",
    "2. Ensure shape is compatible with required format for tensorflow:  (batch, height, width, channels)\n",
    "\n",
    "\n"
   ]
  },
  {
   "cell_type": "code",
   "execution_count": 3,
   "metadata": {},
   "outputs": [
    {
     "name": "stdout",
     "output_type": "stream",
     "text": [
      "Size of training set:  (60000, 28, 28, 1)\n",
      "Some examples of the training set:\n"
     ]
    },
    {
     "data": {
      "image/png": "[encoded data removed]",
      "text/plain": [
       "<Figure size 432x288 with 3 Axes>"
      ]
     },
     "metadata": {
      "needs_background": "light"
     },
     "output_type": "display_data"
    }
   ],
   "source": [
    "\n",
    "# Normalize\n",
    "x_train = train_data[:,0:]/255\n",
    "x_test= test_data[:,0:]/255\n",
    "\n",
    "# Ensure Correct shape\n",
    "image_rows = 28\n",
    "image_cols = 28\n",
    "image_shape = (image_rows,image_cols,1)\n",
    "x_train = x_train.reshape(train_data.shape[0],*image_shape)\n",
    "x_test = x_test.reshape(test_data.shape[0],*image_shape)\n",
    "\n",
    "\n",
    "print(\"Size of training set: \",x_train.shape)\n",
    "\n",
    "\n",
    "print(\"Some examples of the training set:\")\n",
    "\n",
    "for i in range(0, 3):\n",
    "    plt.subplot(330 + (i+1))\n",
    "    plt.imshow(x_train[i].reshape(28,28), cmap=plt.get_cmap('gray'))\n",
    "        \n",
    "        \n",
    "\n",
    "        \n",
    "    "
   ]
  },
  {
   "cell_type": "markdown",
   "metadata": {},
   "source": [
    "## Define fully connected CNN\n",
    "\n",
    "### The three things I need to define in the CNN are:\n",
    "\n",
    "1. Convolution\n",
    "2. Activation\n",
    "3. Pooling\n",
    "\n",
    "In the first layer, 32 filters of (5, 5) size  with ReLU activation function is chosen to reduce training time and avoid  vanishing gradients. To reduce overfitting and training time, a MaxPooling layer is used to down-sample the input\n",
    "To feed this as input to the fully connected layers, they are flattened.\n",
    "\n",
    "To further improve test accuracy and avoid overfitting, Dropout is added. In this model, 10% random neurons will be disabled.\n",
    "\n",
    "To now compute the probability distribution of the 10 classes, a dense layer with units equal to number of classes is added followed by softmax activation layer. The final class for each input will be the one with the highest probability in the softmax layer. \n",
    "\n"
   ]
  },
  {
   "cell_type": "code",
   "execution_count": 4,
   "metadata": {},
   "outputs": [
    {
     "name": "stdout",
     "output_type": "stream",
     "text": [
      "_________________________________________________________________\n",
      "Layer (type)                 Output Shape              Param #   \n",
      "=================================================================\n",
      "conv2d_1 (Conv2D)            (None, 24, 24, 32)        832       \n",
      "_________________________________________________________________\n",
      "conv2d_2 (Conv2D)            (None, 20, 20, 32)        25632     \n",
      "_________________________________________________________________\n",
      "max_pooling2d_1 (MaxPooling2 (None, 10, 10, 32)        0         \n",
      "_________________________________________________________________\n",
      "conv2d_3 (Conv2D)            (None, 8, 8, 32)          9248      \n",
      "_________________________________________________________________\n",
      "flatten_1 (Flatten)          (None, 2048)              0         \n",
      "_________________________________________________________________\n",
      "dense_1 (Dense)              (None, 256)               524544    \n",
      "_________________________________________________________________\n",
      "dropout_1 (Dropout)          (None, 256)               0         \n",
      "_________________________________________________________________\n",
      "dense_2 (Dense)              (None, 10)                2570      \n",
      "_________________________________________________________________\n",
      "activation_1 (Activation)    (None, 10)                0         \n",
      "=================================================================\n",
      "Total params: 562,826\n",
      "Trainable params: 562,826\n",
      "Non-trainable params: 0\n",
      "_________________________________________________________________\n"
     ]
    }
   ],
   "source": [
    "# Define the Sequential CNN\n",
    "cnn_model = Sequential([\n",
    "    Conv2D(32, (5,5), activation='relu', input_shape=(28,28,1)),\n",
    "    Conv2D(32, (5,5), activation='relu'),\n",
    "    MaxPooling2D(pool_size=2),\n",
    "    Conv2D(32, (3,3), activation='relu'),\n",
    "    Flatten(), # flatten out the layers\n",
    "    Dense(units=256, activation='relu'),\n",
    "    Dropout(0.1),\n",
    "    Dense(units=10),\n",
    "    \n",
    "    Activation('softmax')\n",
    "])\n",
    "\n",
    "# Initialize and compile:\n",
    "\n",
    "cnn_model.compile(optimizer='rmsprop', loss='categorical_crossentropy', metrics=['accuracy'])\n",
    "\n",
    "# Create a Tensorboard instance\n",
    "#tensorboard = TensorBoard(log_dir=\"logs/{}\".format(time()))\n",
    "\n",
    "cnn_model.summary()\n",
    "\n",
    "\n"
   ]
  },
  {
   "cell_type": "markdown",
   "metadata": {},
   "source": [
    "## Train model\n",
    "\n",
    "Batch Size: 64\n",
    "Epochs: 50\n",
    "\n",
    "Validation Size: 20% "
   ]
  },
  {
   "cell_type": "code",
   "execution_count": 5,
   "metadata": {},
   "outputs": [
    {
     "name": "stdout",
     "output_type": "stream",
     "text": [
      "Train on 48000 samples, validate on 12000 samples\n",
      "Epoch 1/100\n",
      "48000/48000 [==============================] - 7s 154us/step - loss: 0.1455 - acc: 0.9553 - val_loss: 0.0685 - val_acc: 0.9785\n",
      "Epoch 2/100\n",
      "48000/48000 [==============================] - 5s 111us/step - loss: 0.0434 - acc: 0.9866 - val_loss: 0.0379 - val_acc: 0.9888\n",
      "Epoch 3/100\n",
      "48000/48000 [==============================] - 5s 107us/step - loss: 0.0294 - acc: 0.9910 - val_loss: 0.0382 - val_acc: 0.9892\n",
      "Epoch 4/100\n",
      "48000/48000 [==============================] - 5s 111us/step - loss: 0.0245 - acc: 0.9923 - val_loss: 0.0286 - val_acc: 0.9915\n",
      "Epoch 5/100\n",
      "48000/48000 [==============================] - 5s 111us/step - loss: 0.0191 - acc: 0.9943 - val_loss: 0.0361 - val_acc: 0.9907\n",
      "Epoch 6/100\n",
      "48000/48000 [==============================] - 5s 108us/step - loss: 0.0155 - acc: 0.9954 - val_loss: 0.0367 - val_acc: 0.9898\n",
      "Epoch 7/100\n",
      "48000/48000 [==============================] - 5s 107us/step - loss: 0.0142 - acc: 0.9959 - val_loss: 0.0373 - val_acc: 0.9891\n",
      "Epoch 8/100\n",
      "48000/48000 [==============================] - 5s 105us/step - loss: 0.0117 - acc: 0.9967 - val_loss: 0.0428 - val_acc: 0.9908\n",
      "Epoch 9/100\n",
      "48000/48000 [==============================] - 5s 104us/step - loss: 0.0102 - acc: 0.9971 - val_loss: 0.0452 - val_acc: 0.9908\n",
      "Epoch 10/100\n",
      "48000/48000 [==============================] - 5s 102us/step - loss: 0.0093 - acc: 0.9975 - val_loss: 0.0679 - val_acc: 0.9898\n",
      "Epoch 11/100\n",
      "48000/48000 [==============================] - 5s 110us/step - loss: 0.0088 - acc: 0.9974 - val_loss: 0.0764 - val_acc: 0.9903\n",
      "Epoch 12/100\n",
      "48000/48000 [==============================] - 5s 111us/step - loss: 0.0080 - acc: 0.9981 - val_loss: 0.0541 - val_acc: 0.9914\n",
      "Epoch 13/100\n",
      "48000/48000 [==============================] - 5s 105us/step - loss: 0.0078 - acc: 0.9980 - val_loss: 0.0624 - val_acc: 0.9919\n",
      "Epoch 14/100\n",
      "48000/48000 [==============================] - 5s 113us/step - loss: 0.0068 - acc: 0.9985 - val_loss: 0.0592 - val_acc: 0.9921\n",
      "Epoch 15/100\n",
      "48000/48000 [==============================] - 5s 110us/step - loss: 0.0055 - acc: 0.9987 - val_loss: 0.0760 - val_acc: 0.9909\n",
      "Epoch 16/100\n",
      "48000/48000 [==============================] - 5s 110us/step - loss: 0.0055 - acc: 0.9988 - val_loss: 0.0804 - val_acc: 0.9919\n",
      "Epoch 17/100\n",
      "48000/48000 [==============================] - 6s 115us/step - loss: 0.0059 - acc: 0.9987 - val_loss: 0.0631 - val_acc: 0.9922\n",
      "Epoch 18/100\n",
      "48000/48000 [==============================] - 5s 108us/step - loss: 0.0066 - acc: 0.9989 - val_loss: 0.0690 - val_acc: 0.9923\n",
      "Epoch 19/100\n",
      "48000/48000 [==============================] - 5s 111us/step - loss: 0.0062 - acc: 0.9989 - val_loss: 0.0805 - val_acc: 0.9918\n",
      "Epoch 20/100\n",
      "48000/48000 [==============================] - 5s 106us/step - loss: 0.0053 - acc: 0.9989 - val_loss: 0.0743 - val_acc: 0.9918\n",
      "Epoch 21/100\n",
      "48000/48000 [==============================] - 5s 105us/step - loss: 0.0043 - acc: 0.9990 - val_loss: 0.0762 - val_acc: 0.9921\n",
      "Epoch 22/100\n",
      "48000/48000 [==============================] - 5s 97us/step - loss: 0.0041 - acc: 0.9993 - val_loss: 0.0772 - val_acc: 0.9918\n",
      "Epoch 23/100\n",
      "48000/48000 [==============================] - 5s 95us/step - loss: 0.0038 - acc: 0.9993 - val_loss: 0.0752 - val_acc: 0.9916\n",
      "Epoch 24/100\n",
      "48000/48000 [==============================] - 5s 102us/step - loss: 0.0045 - acc: 0.9992 - val_loss: 0.0891 - val_acc: 0.9916\n",
      "Epoch 25/100\n",
      "48000/48000 [==============================] - 5s 108us/step - loss: 0.0049 - acc: 0.9992 - val_loss: 0.0884 - val_acc: 0.9915\n",
      "Epoch 26/100\n",
      "48000/48000 [==============================] - 5s 109us/step - loss: 0.0039 - acc: 0.9995 - val_loss: 0.0909 - val_acc: 0.9918\n",
      "Epoch 27/100\n",
      "48000/48000 [==============================] - 5s 103us/step - loss: 0.0076 - acc: 0.9990 - val_loss: 0.0990 - val_acc: 0.9916\n",
      "Epoch 28/100\n",
      "48000/48000 [==============================] - 5s 104us/step - loss: 0.0055 - acc: 0.9992 - val_loss: 0.0957 - val_acc: 0.9915\n",
      "Epoch 29/100\n",
      "48000/48000 [==============================] - 5s 95us/step - loss: 0.0061 - acc: 0.9990 - val_loss: 0.0955 - val_acc: 0.9920\n",
      "Epoch 30/100\n",
      "48000/48000 [==============================] - 4s 88us/step - loss: 0.0026 - acc: 0.9995 - val_loss: 0.1074 - val_acc: 0.9912\n",
      "Epoch 31/100\n",
      "48000/48000 [==============================] - 5s 98us/step - loss: 0.0045 - acc: 0.9994 - val_loss: 0.0815 - val_acc: 0.9923\n",
      "Epoch 32/100\n",
      "48000/48000 [==============================] - 5s 110us/step - loss: 0.0028 - acc: 0.9996 - val_loss: 0.0906 - val_acc: 0.9927\n",
      "Epoch 33/100\n",
      "48000/48000 [==============================] - 6s 133us/step - loss: 0.0029 - acc: 0.9995 - val_loss: 0.0962 - val_acc: 0.9912\n",
      "Epoch 34/100\n",
      "48000/48000 [==============================] - 5s 104us/step - loss: 0.0039 - acc: 0.9994 - val_loss: 0.1018 - val_acc: 0.9919\n",
      "Epoch 35/100\n",
      "48000/48000 [==============================] - 6s 116us/step - loss: 0.0077 - acc: 0.9991 - val_loss: 0.0786 - val_acc: 0.9930\n",
      "Epoch 36/100\n",
      "48000/48000 [==============================] - 5s 104us/step - loss: 0.0038 - acc: 0.9995 - val_loss: 0.1037 - val_acc: 0.9915\n",
      "Epoch 37/100\n",
      "48000/48000 [==============================] - 5s 102us/step - loss: 0.0052 - acc: 0.9994 - val_loss: 0.0842 - val_acc: 0.9927\n",
      "Epoch 38/100\n",
      "48000/48000 [==============================] - 5s 101us/step - loss: 0.0022 - acc: 0.9996 - val_loss: 0.1045 - val_acc: 0.9913\n",
      "Epoch 39/100\n",
      "48000/48000 [==============================] - 5s 104us/step - loss: 0.0026 - acc: 0.9996 - val_loss: 0.0870 - val_acc: 0.9932\n",
      "Epoch 40/100\n",
      "48000/48000 [==============================] - 5s 103us/step - loss: 0.0030 - acc: 0.9996 - val_loss: 0.0984 - val_acc: 0.9922\n",
      "Epoch 41/100\n",
      "48000/48000 [==============================] - 5s 113us/step - loss: 0.0021 - acc: 0.9998 - val_loss: 0.0919 - val_acc: 0.9927\n",
      "Epoch 42/100\n",
      "48000/48000 [==============================] - 5s 109us/step - loss: 0.0075 - acc: 0.9992 - val_loss: 0.0989 - val_acc: 0.9920\n",
      "Epoch 43/100\n",
      "48000/48000 [==============================] - 5s 109us/step - loss: 0.0034 - acc: 0.9995 - val_loss: 0.0848 - val_acc: 0.9928\n",
      "Epoch 44/100\n",
      "48000/48000 [==============================] - 5s 113us/step - loss: 0.0034 - acc: 0.9995 - val_loss: 0.0988 - val_acc: 0.9920\n",
      "Epoch 45/100\n",
      "48000/48000 [==============================] - 5s 114us/step - loss: 0.0025 - acc: 0.9997 - val_loss: 0.1024 - val_acc: 0.9917\n",
      "Epoch 46/100\n",
      "48000/48000 [==============================] - 5s 107us/step - loss: 0.0043 - acc: 0.9995 - val_loss: 0.0989 - val_acc: 0.9922\n",
      "Epoch 47/100\n",
      "48000/48000 [==============================] - 5s 97us/step - loss: 0.0039 - acc: 0.9994 - val_loss: 0.1156 - val_acc: 0.9910\n",
      "Epoch 48/100\n",
      "48000/48000 [==============================] - 5s 102us/step - loss: 0.0031 - acc: 0.9997 - val_loss: 0.1098 - val_acc: 0.9917\n",
      "Epoch 49/100\n",
      "48000/48000 [==============================] - 5s 97us/step - loss: 0.0023 - acc: 0.9997 - val_loss: 0.0955 - val_acc: 0.9928\n",
      "Epoch 50/100\n",
      "48000/48000 [==============================] - 5s 94us/step - loss: 0.0020 - acc: 0.9996 - val_loss: 0.1061 - val_acc: 0.9920\n",
      "Epoch 51/100\n",
      "48000/48000 [==============================] - 4s 92us/step - loss: 0.0035 - acc: 0.9996 - val_loss: 0.1002 - val_acc: 0.9922\n",
      "Epoch 52/100\n",
      "48000/48000 [==============================] - 5s 94us/step - loss: 0.0032 - acc: 0.9996 - val_loss: 0.1035 - val_acc: 0.9923\n",
      "Epoch 53/100\n",
      "48000/48000 [==============================] - 5s 105us/step - loss: 0.0024 - acc: 0.9997 - val_loss: 0.0995 - val_acc: 0.9922\n",
      "Epoch 54/100\n",
      "48000/48000 [==============================] - 5s 106us/step - loss: 0.0016 - acc: 0.9998 - val_loss: 0.1034 - val_acc: 0.9920\n",
      "Epoch 55/100\n",
      "48000/48000 [==============================] - 5s 108us/step - loss: 0.0034 - acc: 0.9996 - val_loss: 0.1291 - val_acc: 0.9907\n",
      "Epoch 56/100\n",
      "48000/48000 [==============================] - 5s 107us/step - loss: 0.0023 - acc: 0.9997 - val_loss: 0.0989 - val_acc: 0.9921\n",
      "Epoch 57/100\n",
      "48000/48000 [==============================] - 5s 106us/step - loss: 0.0026 - acc: 0.9997 - val_loss: 0.0907 - val_acc: 0.9924\n",
      "Epoch 58/100\n",
      "48000/48000 [==============================] - 5s 105us/step - loss: 0.0065 - acc: 0.9993 - val_loss: 0.1221 - val_acc: 0.9904\n",
      "Epoch 59/100\n"
     ]
    },
    {
     "name": "stdout",
     "output_type": "stream",
     "text": [
      "48000/48000 [==============================] - 5s 107us/step - loss: 0.0040 - acc: 0.9996 - val_loss: 0.1159 - val_acc: 0.9916\n",
      "Epoch 60/100\n",
      "48000/48000 [==============================] - 5s 108us/step - loss: 0.0030 - acc: 0.9997 - val_loss: 0.1059 - val_acc: 0.9919\n",
      "Epoch 61/100\n",
      "48000/48000 [==============================] - 4s 91us/step - loss: 0.0025 - acc: 0.9997 - val_loss: 0.1150 - val_acc: 0.9920\n",
      "Epoch 62/100\n",
      "48000/48000 [==============================] - 5s 105us/step - loss: 0.0012 - acc: 0.9999 - val_loss: 0.1030 - val_acc: 0.9928\n",
      "Epoch 63/100\n",
      "48000/48000 [==============================] - 5s 99us/step - loss: 0.0025 - acc: 0.9997 - val_loss: 0.1159 - val_acc: 0.9918\n",
      "Epoch 64/100\n",
      "48000/48000 [==============================] - 5s 105us/step - loss: 0.0057 - acc: 0.9995 - val_loss: 0.1182 - val_acc: 0.9912\n",
      "Epoch 65/100\n",
      "48000/48000 [==============================] - 5s 111us/step - loss: 0.0041 - acc: 0.9996 - val_loss: 0.1341 - val_acc: 0.9898\n",
      "Epoch 66/100\n",
      "48000/48000 [==============================] - 5s 105us/step - loss: 0.0031 - acc: 0.9997 - val_loss: 0.1154 - val_acc: 0.9919\n",
      "Epoch 67/100\n",
      "48000/48000 [==============================] - 4s 93us/step - loss: 0.0032 - acc: 0.9996 - val_loss: 0.1030 - val_acc: 0.9923\n",
      "Epoch 68/100\n",
      "48000/48000 [==============================] - 5s 112us/step - loss: 0.0036 - acc: 0.9997 - val_loss: 0.1091 - val_acc: 0.9919\n",
      "Epoch 69/100\n",
      "48000/48000 [==============================] - 5s 101us/step - loss: 0.0037 - acc: 0.9996 - val_loss: 0.0957 - val_acc: 0.9928\n",
      "Epoch 70/100\n",
      "48000/48000 [==============================] - 5s 108us/step - loss: 0.0038 - acc: 0.9996 - val_loss: 0.1085 - val_acc: 0.9916\n",
      "Epoch 71/100\n",
      "48000/48000 [==============================] - 5s 94us/step - loss: 0.0040 - acc: 0.9996 - val_loss: 0.1175 - val_acc: 0.9912\n",
      "Epoch 72/100\n",
      "48000/48000 [==============================] - 5s 94us/step - loss: 0.0047 - acc: 0.9995 - val_loss: 0.1097 - val_acc: 0.9919\n",
      "Epoch 73/100\n",
      "48000/48000 [==============================] - 4s 94us/step - loss: 0.0020 - acc: 0.9998 - val_loss: 0.1117 - val_acc: 0.9918\n",
      "Epoch 74/100\n",
      "48000/48000 [==============================] - 5s 104us/step - loss: 0.0023 - acc: 0.9997 - val_loss: 0.1050 - val_acc: 0.9923\n",
      "Epoch 75/100\n",
      "48000/48000 [==============================] - 5s 95us/step - loss: 0.0015 - acc: 0.9998 - val_loss: 0.0982 - val_acc: 0.9928\n",
      "Epoch 76/100\n",
      "48000/48000 [==============================] - 4s 87us/step - loss: 0.0015 - acc: 0.9999 - val_loss: 0.1206 - val_acc: 0.9912\n",
      "Epoch 77/100\n",
      "48000/48000 [==============================] - 4s 93us/step - loss: 0.0015 - acc: 0.9999 - val_loss: 0.1231 - val_acc: 0.9912\n",
      "Epoch 78/100\n",
      "48000/48000 [==============================] - 5s 99us/step - loss: 0.0022 - acc: 0.9997 - val_loss: 0.1136 - val_acc: 0.9918\n",
      "Epoch 79/100\n",
      "48000/48000 [==============================] - 4s 91us/step - loss: 0.0028 - acc: 0.9997 - val_loss: 0.1013 - val_acc: 0.9928\n",
      "Epoch 80/100\n",
      "48000/48000 [==============================] - 5s 104us/step - loss: 0.0022 - acc: 0.9998 - val_loss: 0.1133 - val_acc: 0.9918\n",
      "Epoch 81/100\n",
      "48000/48000 [==============================] - 5s 104us/step - loss: 9.8225e-04 - acc: 0.9999 - val_loss: 0.0989 - val_acc: 0.9926\n",
      "Epoch 82/100\n",
      "48000/48000 [==============================] - 5s 109us/step - loss: 8.6130e-04 - acc: 0.9999 - val_loss: 0.1106 - val_acc: 0.9924\n",
      "Epoch 83/100\n",
      "48000/48000 [==============================] - 5s 111us/step - loss: 0.0019 - acc: 0.9998 - val_loss: 0.1112 - val_acc: 0.9918\n",
      "Epoch 84/100\n",
      "48000/48000 [==============================] - 5s 109us/step - loss: 0.0034 - acc: 0.9997 - val_loss: 0.1124 - val_acc: 0.9918\n",
      "Epoch 85/100\n",
      "48000/48000 [==============================] - 6s 118us/step - loss: 0.0023 - acc: 0.9997 - val_loss: 0.1144 - val_acc: 0.9924\n",
      "Epoch 86/100\n",
      "48000/48000 [==============================] - 5s 112us/step - loss: 0.0030 - acc: 0.9997 - val_loss: 0.1089 - val_acc: 0.9916\n",
      "Epoch 87/100\n",
      "48000/48000 [==============================] - 5s 115us/step - loss: 0.0016 - acc: 0.9999 - val_loss: 0.1114 - val_acc: 0.9919\n",
      "Epoch 88/100\n",
      "48000/48000 [==============================] - 5s 105us/step - loss: 0.0053 - acc: 0.9995 - val_loss: 0.1033 - val_acc: 0.9925\n",
      "Epoch 89/100\n",
      "48000/48000 [==============================] - 5s 111us/step - loss: 0.0016 - acc: 0.9998 - val_loss: 0.1167 - val_acc: 0.9921\n",
      "Epoch 90/100\n",
      "48000/48000 [==============================] - 5s 113us/step - loss: 0.0023 - acc: 0.9997 - val_loss: 0.0994 - val_acc: 0.9927\n",
      "Epoch 91/100\n",
      "48000/48000 [==============================] - 5s 111us/step - loss: 0.0028 - acc: 0.9997 - val_loss: 0.1167 - val_acc: 0.9916\n",
      "Epoch 92/100\n",
      "48000/48000 [==============================] - 6s 115us/step - loss: 0.0025 - acc: 0.9997 - val_loss: 0.1025 - val_acc: 0.9924\n",
      "Epoch 93/100\n",
      "48000/48000 [==============================] - 5s 114us/step - loss: 0.0025 - acc: 0.9997 - val_loss: 0.1075 - val_acc: 0.9925\n",
      "Epoch 94/100\n",
      "48000/48000 [==============================] - 5s 112us/step - loss: 0.0030 - acc: 0.9997 - val_loss: 0.1114 - val_acc: 0.9922\n",
      "Epoch 95/100\n",
      "48000/48000 [==============================] - 5s 108us/step - loss: 0.0016 - acc: 0.9999 - val_loss: 0.1105 - val_acc: 0.9922\n",
      "Epoch 96/100\n",
      "48000/48000 [==============================] - 5s 111us/step - loss: 0.0026 - acc: 0.9998 - val_loss: 0.1235 - val_acc: 0.9914\n",
      "Epoch 97/100\n",
      "48000/48000 [==============================] - 5s 109us/step - loss: 0.0019 - acc: 0.9998 - val_loss: 0.1111 - val_acc: 0.9922\n",
      "Epoch 98/100\n",
      "48000/48000 [==============================] - 6s 118us/step - loss: 0.0019 - acc: 0.9999 - val_loss: 0.1013 - val_acc: 0.9928\n",
      "Epoch 99/100\n",
      "48000/48000 [==============================] - 6s 117us/step - loss: 0.0018 - acc: 0.9999 - val_loss: 0.1148 - val_acc: 0.9916\n",
      "Epoch 100/100\n",
      "48000/48000 [==============================] - 5s 108us/step - loss: 0.0024 - acc: 0.9998 - val_loss: 0.1020 - val_acc: 0.9929\n"
     ]
    }
   ],
   "source": [
    "\n",
    "# Training\n",
    "batch_size = 64\n",
    "history = cnn_model.fit(\n",
    "    x_train,\n",
    "    y_train,\n",
    "    validation_split=0.2,\n",
    "    batch_size=batch_size,\n",
    "    epochs=100,\n",
    "    verbose=1,\n",
    "    #callbacks=[tensorboard]\n",
    ")\n"
   ]
  },
  {
   "cell_type": "markdown",
   "metadata": {},
   "source": [
    "## Test Accuracy"
   ]
  },
  {
   "cell_type": "code",
   "execution_count": 6,
   "metadata": {},
   "outputs": [
    {
     "name": "stdout",
     "output_type": "stream",
     "text": [
      "Test Loss : 0.1016\n",
      "Test Accuracy : 0.9931\n"
     ]
    }
   ],
   "source": [
    "score = cnn_model.evaluate(x_test,y_test,verbose=0)\n",
    "print('Test Loss : {:.4f}'.format(score[0]))\n",
    "print('Test Accuracy : {:.4f}'.format(score[1]))\n"
   ]
  },
  {
   "cell_type": "markdown",
   "metadata": {},
   "source": [
    "## Visualizing the performance of the networks"
   ]
  },
  {
   "cell_type": "code",
   "execution_count": 7,
   "metadata": {},
   "outputs": [
    {
     "data": {
      "image/png": "[encoded data removed]",
      "text/plain": [
       "<Figure size 432x288 with 1 Axes>"
      ]
     },
     "metadata": {
      "needs_background": "light"
     },
     "output_type": "display_data"
    },
    {
     "data": {
      "image/png": "[encoded data removed]",
      "text/plain": [
       "<Figure size 432x288 with 1 Axes>"
      ]
     },
     "metadata": {
      "needs_background": "light"
     },
     "output_type": "display_data"
    }
   ],
   "source": [
    "\n",
    "accuracy = history.history['acc']\n",
    "val_accuracy = history.history['val_acc']\n",
    "loss = history.history['loss']\n",
    "val_loss = history.history['val_loss']\n",
    "epochs = range(len(accuracy))\n",
    "\n",
    "plt.plot(epochs, accuracy, 'g', label='Training Accuracy')\n",
    "\n",
    "plt.plot(epochs, val_accuracy, 'b', label='Validation Accuracy')\n",
    "plt.title('Training and Validation accuracy')\n",
    "plt.xlabel('epoch')\n",
    "plt.legend()\n",
    "plt.figure()\n",
    "\n",
    "plt.plot(epochs, loss, 'g', label='Training Loss')\n",
    "plt.plot(epochs, val_loss, 'b', label='Validation Loss')\n",
    "plt.title('Training and validation loss')\n",
    "plt.xlabel('epoch')\n",
    "\n",
    "plt.legend()\n",
    "plt.show()\n"
   ]
  },
  {
   "cell_type": "markdown",
   "metadata": {},
   "source": [
    "Validation accuracy is a lot lower than the training accuracy, reducing the number of epochs should be helpful\n"
   ]
  },
  {
   "cell_type": "code",
   "execution_count": 8,
   "metadata": {},
   "outputs": [
    {
     "name": "stdout",
     "output_type": "stream",
     "text": [
      "_________________________________________________________________\n",
      "Layer (type)                 Output Shape              Param #   \n",
      "=================================================================\n",
      "conv2d_4 (Conv2D)            (None, 24, 24, 32)        832       \n",
      "_________________________________________________________________\n",
      "conv2d_5 (Conv2D)            (None, 20, 20, 32)        25632     \n",
      "_________________________________________________________________\n",
      "max_pooling2d_2 (MaxPooling2 (None, 10, 10, 32)        0         \n",
      "_________________________________________________________________\n",
      "conv2d_6 (Conv2D)            (None, 8, 8, 32)          9248      \n",
      "_________________________________________________________________\n",
      "flatten_2 (Flatten)          (None, 2048)              0         \n",
      "_________________________________________________________________\n",
      "dense_3 (Dense)              (None, 256)               524544    \n",
      "_________________________________________________________________\n",
      "dropout_2 (Dropout)          (None, 256)               0         \n",
      "_________________________________________________________________\n",
      "dense_4 (Dense)              (None, 10)                2570      \n",
      "_________________________________________________________________\n",
      "activation_2 (Activation)    (None, 10)                0         \n",
      "=================================================================\n",
      "Total params: 562,826\n",
      "Trainable params: 562,826\n",
      "Non-trainable params: 0\n",
      "_________________________________________________________________\n",
      "Train on 48000 samples, validate on 12000 samples\n",
      "Epoch 1/5\n",
      "48000/48000 [==============================] - 6s 115us/step - loss: 0.1418 - acc: 0.9549 - val_loss: 0.0459 - val_acc: 0.9872\n",
      "Epoch 2/5\n",
      "48000/48000 [==============================] - 5s 104us/step - loss: 0.0434 - acc: 0.9867 - val_loss: 0.0654 - val_acc: 0.9810\n",
      "Epoch 3/5\n",
      "48000/48000 [==============================] - 5s 107us/step - loss: 0.0307 - acc: 0.9908 - val_loss: 0.0477 - val_acc: 0.9871\n",
      "Epoch 4/5\n",
      "48000/48000 [==============================] - 5s 109us/step - loss: 0.0248 - acc: 0.9931 - val_loss: 0.0362 - val_acc: 0.9898\n",
      "Epoch 5/5\n",
      "48000/48000 [==============================] - 5s 111us/step - loss: 0.0192 - acc: 0.9943 - val_loss: 0.0505 - val_acc: 0.9865\n"
     ]
    }
   ],
   "source": [
    "# Define the Sequential CNN\n",
    "cnn_model2 = Sequential([\n",
    "    Conv2D(32, (5,5), activation='relu', input_shape=(28,28,1)),\n",
    "    Conv2D(32, (5,5), activation='relu'),\n",
    "    MaxPooling2D(pool_size=2),\n",
    "    Conv2D(32, (3,3), activation='relu'),\n",
    "    Flatten(), # flatten out the layers\n",
    "    Dense(units=256, activation='relu'),\n",
    "    Dropout(0.1),\n",
    "    Dense(units=10),\n",
    "    \n",
    "    Activation('softmax')\n",
    "])\n",
    "\n",
    "# Initialize and compile:\n",
    "\n",
    "cnn_model2.compile(optimizer='rmsprop', loss='categorical_crossentropy', metrics=['accuracy'])\n",
    "\n",
    "# Create a Tensorboard instance\n",
    "#tensorboard = TensorBoard(log_dir=\"logs/{}\".format(time()))\n",
    "\n",
    "cnn_model2.summary()\n",
    "\n",
    "# Training\n",
    "batch_size = 64\n",
    "history = cnn_model2.fit(\n",
    "    x_train,\n",
    "    y_train,\n",
    "    validation_split=0.2,\n",
    "    batch_size=batch_size,\n",
    "    epochs=5,\n",
    "    verbose=1,\n",
    "    #callbacks=[tensorboard]\n",
    ")\n",
    "\n"
   ]
  },
  {
   "cell_type": "markdown",
   "metadata": {},
   "source": [
    "## View final accuracy\n"
   ]
  },
  {
   "cell_type": "code",
   "execution_count": 9,
   "metadata": {},
   "outputs": [
    {
     "name": "stdout",
     "output_type": "stream",
     "text": [
      "Test Loss : 0.0402\n",
      "Test Accuracy : 0.9887\n"
     ]
    }
   ],
   "source": [
    "score = cnn_model2.evaluate(x_test,y_test,verbose=0)\n",
    "print('Test Loss : {:.4f}'.format(score[0]))\n",
    "print('Test Accuracy : {:.4f}'.format(score[1]))\n"
   ]
  },
  {
   "cell_type": "markdown",
   "metadata": {},
   "source": [
    "## Visualizing performance"
   ]
  },
  {
   "cell_type": "code",
   "execution_count": 10,
   "metadata": {},
   "outputs": [
    {
     "data": {
      "image/png": "[encoded data removed]",
      "text/plain": [
       "<Figure size 432x288 with 1 Axes>"
      ]
     },
     "metadata": {
      "needs_background": "light"
     },
     "output_type": "display_data"
    },
    {
     "data": {
      "image/png": "[encoded data removed]",
      "text/plain": [
       "<Figure size 432x288 with 1 Axes>"
      ]
     },
     "metadata": {
      "needs_background": "light"
     },
     "output_type": "display_data"
    }
   ],
   "source": [
    "accuracy = history.history['acc']\n",
    "val_accuracy = history.history['val_acc']\n",
    "loss = history.history['loss']\n",
    "val_loss = history.history['val_loss']\n",
    "epochs = range(len(accuracy))\n",
    "\n",
    "plt.plot(epochs, accuracy, 'g', label='Training Accuracy')\n",
    "\n",
    "plt.plot(epochs, val_accuracy, 'b', label='Validation Accuracy')\n",
    "plt.title('Training and Validation accuracy')\n",
    "plt.xlabel('epoch')\n",
    "plt.legend()\n",
    "plt.figure()\n",
    "\n",
    "plt.plot(epochs, loss, 'g', label='Training Loss')\n",
    "plt.plot(epochs, val_loss, 'b', label='Validation Loss')\n",
    "plt.title('Training and validation loss')\n",
    "plt.xlabel('epoch')\n",
    "\n",
    "plt.legend()\n",
    "plt.show()"
   ]
  },
  {
   "cell_type": "markdown",
   "metadata": {},
   "source": [
    "## The weight and biases "
   ]
  },
  {
   "cell_type": "code",
   "execution_count": 11,
   "metadata": {},
   "outputs": [
    {
     "name": "stdout",
     "output_type": "stream",
     "text": [
      "Biases:  [ 0.01391682 -0.06766279 -0.08425654 -0.03588153 -0.01599384 -0.02373236\n",
      " -0.01999287 -0.11365086 -0.01572378 -0.0474993  -0.05611112 -0.11088567\n",
      "  0.00744221  0.0471003  -0.04547524 -0.00378237 -0.0762144  -0.03097933\n",
      "  0.00297311 -0.00285952 -0.00583226 -0.00384424 -0.05796425 -0.04945184\n",
      " -0.00449542 -0.03927846 -0.02878164  0.00568616 -0.05505557 -0.08780394\n",
      " -0.00922501 -0.06942464]\n",
      "Weights:  [[[[-1.30662441e-01 -6.46523684e-02  1.17354594e-01 -2.66272039e-03\n",
      "     1.84237361e-02 -6.25096485e-02 -3.09615545e-02  9.89549831e-02\n",
      "    -4.41678129e-02 -5.02521954e-02  3.37709859e-02  1.49381503e-01\n",
      "     4.31527868e-02 -5.85989319e-02 -6.49786294e-02  1.82338315e-03\n",
      "     3.83072123e-02  7.74589553e-02 -4.48100194e-02  6.92128763e-02\n",
      "     1.82741918e-02  6.74837455e-02 -7.09540620e-02  3.45151946e-02\n",
      "     5.56102283e-02 -8.37882087e-02  2.26051547e-02 -7.57940784e-02\n",
      "    -8.64461064e-02 -2.98684575e-02  9.83051434e-02  6.65886775e-02]]\n",
      "\n",
      "  [[ 1.16823642e-02  6.87135756e-02  4.41736765e-02 -9.75906253e-02\n",
      "     1.59831252e-02 -8.16444904e-02 -7.32840747e-02 -8.70070979e-03\n",
      "    -6.98433593e-02  1.07007310e-01 -5.14965169e-02 -3.75590399e-02\n",
      "     4.56416272e-02  6.24734387e-02  7.09895194e-02 -1.18157655e-01\n",
      "     8.80925544e-03  6.42151982e-02 -2.80612484e-02 -1.11719854e-01\n",
      "     4.20469828e-02 -4.27862890e-02 -9.29365084e-02 -8.45622122e-02\n",
      "     1.20694796e-02 -5.67076132e-02  5.43827489e-02 -4.62420695e-02\n",
      "    -4.82783187e-03  3.04279961e-02  2.99901087e-02 -8.58820677e-02]]\n",
      "\n",
      "  [[ 1.15750603e-01 -1.65231992e-02 -1.69463884e-02  6.44817874e-02\n",
      "     1.09139290e-02  3.15476507e-02  1.99628137e-02 -2.81585641e-02\n",
      "    -1.48976780e-02  5.79595529e-02 -3.52348611e-02  8.37399811e-02\n",
      "    -4.00033034e-03  4.20882218e-02  4.90656570e-02 -8.83878320e-02\n",
      "     1.50503907e-02  5.87889068e-02 -7.53367469e-02  7.42301112e-03\n",
      "    -3.45953442e-02 -3.76187414e-02 -4.07639220e-02  4.36150022e-02\n",
      "     3.30278613e-02 -4.25100550e-02 -2.35843901e-02  2.69450340e-02\n",
      "    -6.48455089e-03  3.16856690e-02  5.65095060e-02 -9.75993425e-02]]\n",
      "\n",
      "  [[-2.58514732e-02  1.77136844e-03  1.79869644e-02  5.59467636e-02\n",
      "     8.18595514e-02 -1.32161781e-01  6.50761947e-02 -7.57797658e-02\n",
      "     1.17482908e-01 -2.85105389e-02 -4.12518680e-02  2.85505317e-03\n",
      "    -1.52692944e-02 -5.23634218e-02 -4.00196873e-02 -7.35244229e-02\n",
      "    -7.75085911e-02 -7.03107566e-02 -7.05645829e-02  1.40637849e-02\n",
      "    -2.63885297e-02 -6.06462359e-02  6.40682876e-02 -4.86518219e-02\n",
      "     6.80387467e-02 -7.31350258e-02  2.50586262e-03  4.63386923e-02\n",
      "     9.63331908e-02 -1.01427250e-01  7.81628862e-02 -8.91995803e-03]]\n",
      "\n",
      "  [[ 3.20879556e-02 -4.52952422e-02  3.82403396e-02  1.48702646e-02\n",
      "     3.31724398e-02 -7.19508901e-02 -5.49354367e-02  4.38740216e-02\n",
      "    -4.58525680e-02  9.00582061e-04 -6.44450635e-02  3.17000113e-02\n",
      "     2.20709424e-02  6.60338998e-02  6.00237660e-02  5.49971759e-02\n",
      "    -2.17510145e-02 -2.92007010e-02 -5.65155223e-02 -8.97276103e-02\n",
      "    -1.68624073e-02 -4.05761190e-02  8.61425400e-02 -1.63624098e-03\n",
      "    -2.73928512e-02  1.00500304e-02 -1.05320595e-01 -2.03841347e-02\n",
      "     5.50127961e-03 -1.46484347e-02 -4.58422750e-02  4.80183065e-02]]]\n",
      "\n",
      "\n",
      " [[[-1.45721138e-01 -1.82554051e-02  3.61069851e-02  2.33901646e-02\n",
      "    -3.19040148e-04 -1.23229407e-01 -1.30926564e-01  6.15588669e-03\n",
      "     7.22697526e-02 -1.34344310e-01  5.71758859e-02  2.94414852e-02\n",
      "     9.66124535e-02 -5.42131178e-02 -5.12901470e-02 -4.23039384e-02\n",
      "     5.27625605e-02 -4.06845994e-02  1.62629541e-02  8.29729214e-02\n",
      "     2.26114038e-02  4.72885557e-02 -9.24909785e-02  6.07808530e-02\n",
      "     4.98517677e-02  3.74782607e-02 -7.90153369e-02 -5.61624691e-02\n",
      "    -1.01998538e-01 -1.23905512e-02 -4.47069062e-03  7.27372393e-02]]\n",
      "\n",
      "  [[-1.21971093e-01  3.73682827e-02 -1.65788203e-01  3.03026233e-02\n",
      "    -5.91377020e-02 -6.24068007e-02 -4.03679349e-02  6.72657937e-02\n",
      "     2.35624742e-02 -1.46033227e-01  9.38058421e-02 -6.42961189e-02\n",
      "     1.55302156e-02  2.24158950e-02  7.50516877e-02 -1.41440094e-01\n",
      "    -1.65484324e-02  5.63547723e-02 -2.26363298e-02 -2.16529928e-02\n",
      "    -2.45791953e-02 -9.44809429e-03 -8.65157321e-03 -5.38322106e-02\n",
      "     9.06421617e-02  3.28140147e-02 -1.75109297e-01 -1.35728465e-02\n",
      "    -2.26254705e-02  2.59173717e-02 -3.01318541e-02  3.78530063e-02]]\n",
      "\n",
      "  [[-1.51397735e-01 -2.63401009e-02 -4.09100428e-02  5.53655401e-02\n",
      "    -1.73374359e-02 -1.33093283e-01  6.66272193e-02  6.15254119e-02\n",
      "    -4.37701866e-02  1.69114722e-03  2.56814696e-02 -1.28129408e-01\n",
      "     6.32578880e-02  1.37381833e-02  3.39090824e-02  7.15212822e-02\n",
      "     5.51552027e-02 -1.69961527e-02  8.18654224e-02 -8.31112340e-02\n",
      "     8.44516139e-03 -6.26380518e-02  7.55560324e-02 -1.12869143e-01\n",
      "     1.23229818e-02  4.51087616e-02  3.84089909e-02 -4.33775634e-02\n",
      "     5.82782924e-02  2.65201787e-04 -1.48803974e-02  7.60712624e-02]]\n",
      "\n",
      "  [[-6.41099438e-02 -1.45765394e-01 -5.50199039e-02  7.30203018e-02\n",
      "     6.97637647e-02 -1.91267040e-02  7.82183483e-02  7.01668113e-02\n",
      "    -1.91446475e-03  3.64733003e-02 -6.72564358e-02  5.06664775e-02\n",
      "     4.17167693e-02  1.19051170e-02 -2.33787205e-02  9.27531123e-02\n",
      "    -2.41407892e-03 -7.68793048e-03  6.21938780e-02  3.49488296e-02\n",
      "     3.02972514e-02 -4.28256094e-02 -4.04273346e-02 -2.59943716e-02\n",
      "     5.46385162e-02 -1.02132529e-01 -5.44330385e-03  1.32526560e-02\n",
      "     8.03024471e-02  6.77044764e-02 -1.57722998e-02  6.91936463e-02]]\n",
      "\n",
      "  [[-7.90240690e-02  1.24894120e-02  5.44162467e-02 -6.64097965e-02\n",
      "     5.74254841e-02 -6.20519370e-02 -2.56818142e-02 -4.87370342e-02\n",
      "    -7.63203055e-02 -5.58662936e-02  2.18502479e-04  5.18174246e-02\n",
      "    -3.84076051e-02  4.70518991e-02 -3.67186815e-02  3.39196762e-03\n",
      "    -6.53509498e-02 -4.27040271e-02  8.01744461e-02  7.56005123e-02\n",
      "    -5.41076027e-02 -7.92050436e-02  8.11483059e-03  7.57972058e-03\n",
      "    -1.18298933e-01  1.63708963e-02  2.64409110e-02 -7.20486939e-02\n",
      "    -1.69950742e-02 -4.07472290e-02  7.82018900e-02 -3.28878611e-02]]]\n",
      "\n",
      "\n",
      " [[[-4.24224176e-02 -1.68913770e-02 -8.50189924e-02 -5.81458509e-02\n",
      "    -2.32151598e-02  2.85022072e-02  7.05915689e-03  5.19657768e-02\n",
      "    -3.67524959e-02 -1.03109039e-01 -1.50558315e-02 -8.77741650e-02\n",
      "     2.85259597e-02  4.02732864e-02  9.55322310e-02 -1.47997633e-01\n",
      "    -2.09278371e-02 -1.69161230e-01 -1.09892851e-02  2.57511549e-02\n",
      "    -3.95289436e-02  1.33282200e-01 -8.51868391e-02 -2.57990211e-02\n",
      "    -6.18715025e-02 -2.24703755e-02 -1.19430989e-01  3.94496545e-02\n",
      "    -7.09127411e-02 -1.31130368e-01 -1.11836359e-01  1.20269701e-01]]\n",
      "\n",
      "  [[-3.26820649e-02  5.45026138e-02 -1.22983776e-01  4.39292453e-02\n",
      "    -1.06562980e-01  3.20340060e-02  7.92204663e-02  1.70008820e-02\n",
      "     8.98267627e-02 -1.99845880e-01  5.64211942e-02 -6.79750144e-02\n",
      "     8.31811577e-02  9.22275037e-02 -3.61476839e-02  2.48459224e-02\n",
      "     4.23307472e-04 -1.24797158e-01  2.10279301e-02 -1.44711748e-01\n",
      "    -1.05733406e-02  5.92564382e-02 -1.01965331e-02  5.61348908e-02\n",
      "    -9.16128457e-02 -1.87076684e-02 -4.83566374e-02  2.54914891e-02\n",
      "    -7.44545013e-02  2.69612316e-02 -9.31924134e-02  7.38391131e-02]]\n",
      "\n",
      "  [[-1.48791922e-02  5.94274960e-02 -6.32871548e-03  6.80302009e-02\n",
      "    -2.14388356e-01  6.96437508e-02  1.12231895e-01 -6.84176758e-02\n",
      "    -9.37862322e-02 -2.71669142e-02  4.49311621e-02 -3.86766205e-03\n",
      "    -1.70663819e-02  6.45071222e-03  2.71627493e-02  1.12407200e-01\n",
      "    -8.21891613e-03  5.24077192e-02  9.88536254e-02 -3.84530947e-02\n",
      "     1.05823703e-01 -1.18984640e-01  5.90588637e-02 -6.31278828e-02\n",
      "    -7.01602325e-02  5.56199402e-02  7.10878298e-02 -3.75667401e-02\n",
      "     5.94835654e-02  7.40488097e-02 -1.44171163e-01 -1.24797337e-02]]\n",
      "\n",
      "  [[ 1.42912138e-02  2.95738857e-02  3.59996185e-02 -7.59102777e-02\n",
      "    -8.12633932e-02 -9.34156496e-03 -4.31430116e-02  3.04050930e-02\n",
      "    -2.99986005e-02 -7.22998083e-02  2.27107871e-02 -2.53069960e-02\n",
      "    -7.08343089e-03 -1.46866851e-02  4.20965138e-04  7.41340518e-02\n",
      "     6.55329153e-02  9.15586352e-02  7.40244016e-02  7.08379373e-02\n",
      "     9.00365133e-03 -1.74659133e-01 -3.25668752e-02  3.45021673e-02\n",
      "    -1.09868623e-01  8.60959440e-02  7.46061802e-02 -5.00580370e-02\n",
      "     7.98050910e-02  4.42662239e-02 -1.22775286e-01  8.20711181e-02]]\n",
      "\n",
      "  [[ 1.49895614e-02  8.48010369e-03  2.93617360e-02  5.62946908e-02\n",
      "     9.76653174e-02  7.69966468e-02 -7.59067237e-02 -2.46564522e-02\n",
      "     1.74824744e-02  7.47190043e-02 -2.30886620e-02  7.95842335e-02\n",
      "     4.61375974e-02  5.86709529e-02 -8.38790387e-02 -5.56139313e-02\n",
      "     5.21018021e-02 -2.31790598e-02  1.28401965e-01  8.03450868e-02\n",
      "    -1.23624079e-01  1.20645773e-03  1.75987855e-02  6.24456331e-02\n",
      "    -1.40195444e-01 -1.06998146e-01  3.76886874e-02 -7.64041394e-02\n",
      "     2.07367893e-02  3.66159193e-02  3.18790898e-02 -2.48772651e-02]]]\n",
      "\n",
      "\n",
      " [[[-7.57058412e-02  1.13328528e-02 -2.94766538e-02 -5.91328293e-02\n",
      "     3.56411040e-02 -3.89269623e-03 -3.38168405e-02 -9.90469009e-02\n",
      "    -8.49613994e-02 -4.67112064e-02 -8.47221315e-02 -7.01570660e-02\n",
      "    -1.06536541e-02  1.11925481e-02  3.91295925e-02 -1.02017954e-01\n",
      "    -6.92488924e-02  1.39980875e-02  3.20222043e-03 -6.66015670e-02\n",
      "    -1.24105334e-01  9.09448862e-02  4.78693955e-02  6.02717586e-02\n",
      "    -1.43764187e-02  1.16234517e-03  7.24936463e-03  1.01284213e-01\n",
      "    -9.01720822e-02 -2.28394475e-02 -1.70906074e-02  2.90195365e-02]]\n",
      "\n",
      "  [[-6.36551008e-02  6.40285062e-03  3.01122554e-02 -1.76924281e-02\n",
      "     1.06524333e-01  3.32040377e-02 -2.28228830e-02 -1.61079302e-01\n",
      "     2.59675551e-02 -1.78745873e-02  5.56457303e-02 -9.68118850e-03\n",
      "    -8.56213123e-02 -4.92722876e-02  8.06890428e-02 -7.20313191e-02\n",
      "    -4.78892252e-02 -9.89380851e-02 -8.90666768e-02  1.92156807e-02\n",
      "     4.46740724e-02 -8.24164506e-03 -8.08391348e-02  1.05114140e-01\n",
      "    -9.40202922e-02  9.54819098e-02  7.70289227e-02  1.02818767e-02\n",
      "    -2.58190520e-02  3.27543058e-02 -5.69034219e-02  4.73069735e-02]]\n",
      "\n",
      "  [[-4.59141992e-02 -2.00592745e-02  8.94660503e-02 -7.42705390e-02\n",
      "    -9.32257250e-02  2.60184947e-02 -8.58598650e-02 -5.63983321e-02\n",
      "    -7.83599839e-02 -6.12001717e-02  1.13477506e-01  1.10266935e-02\n",
      "    -1.04975611e-01 -8.38366151e-02 -9.67083126e-02  5.27756810e-02\n",
      "    -3.21616121e-02  5.06617054e-02 -1.05991520e-01 -1.29030585e-01\n",
      "     6.74381703e-02 -1.52772143e-01 -5.43784089e-02  5.76466434e-02\n",
      "    -6.87136948e-02 -2.05435120e-02  8.57355148e-02  7.75868222e-02\n",
      "     3.41818370e-02 -3.42419744e-02 -4.63148877e-02  6.55968562e-02]]\n",
      "\n",
      "  [[-2.86794901e-02  3.79702747e-02  1.04408711e-01 -1.37466937e-01\n",
      "    -1.40762120e-01  1.08807281e-01 -1.53015643e-01  4.01841775e-02\n",
      "    -1.34017947e-03  1.87114459e-02  6.68153763e-02 -5.77462055e-02\n",
      "    -4.95479554e-02 -1.12643756e-01 -6.10807315e-02 -1.05543397e-02\n",
      "     4.23061997e-02 -4.68232371e-02 -3.10152732e-02  4.80140001e-02\n",
      "     1.01661816e-01 -1.18536182e-01  7.62187988e-02  4.23111729e-02\n",
      "     2.38707219e-03  8.72709230e-02 -5.58851957e-02 -7.12229088e-02\n",
      "    -2.69151907e-02 -1.52908377e-02 -1.94290821e-02 -5.46379201e-02]]\n",
      "\n",
      "  [[ 7.62132555e-02  5.25828190e-02  1.50270639e-02 -3.60546038e-02\n",
      "    -1.07529588e-01 -1.69583708e-02 -7.50820935e-02  6.50021657e-02\n",
      "     1.31654605e-01  9.82206985e-02  1.50697744e-02  2.65540518e-02\n",
      "     2.15074718e-02 -1.00244008e-01 -7.71700665e-02 -7.12140501e-02\n",
      "     5.18205725e-02 -2.79487018e-02 -6.19222708e-02 -7.68856378e-03\n",
      "    -1.53780393e-02  5.61977327e-02  7.05603790e-03  7.69584253e-02\n",
      "     1.56622231e-02  2.93607009e-03 -7.79266134e-02  9.51447636e-02\n",
      "    -6.34169653e-02  4.18393873e-02 -7.20500946e-02 -5.81800416e-02]]]\n",
      "\n",
      "\n",
      " [[[ 5.01700565e-02 -1.33252203e-01  9.92315933e-02  8.58924463e-02\n",
      "     3.20914313e-02 -8.96130502e-03  3.60961258e-02  6.14908487e-02\n",
      "    -7.35803246e-02 -4.08010464e-03 -1.00267820e-01  6.79606870e-02\n",
      "    -5.42888232e-02 -1.90292180e-01  3.58793437e-02 -4.67857197e-02\n",
      "    -8.96851420e-02  1.18919343e-01 -1.89150125e-02 -6.25012293e-02\n",
      "    -1.48525193e-01  3.50464811e-03  6.36880547e-02 -9.18132514e-02\n",
      "    -1.62217841e-02  4.52592000e-02  6.86750282e-05  4.06348333e-02\n",
      "    -1.69366691e-02  7.83494711e-02 -3.13801877e-02 -2.99226176e-02]]\n",
      "\n",
      "  [[ 8.40801895e-02  6.00501187e-02 -1.11283846e-02 -3.96254584e-02\n",
      "     1.28232807e-01 -1.05720215e-01  2.58043408e-02  5.63973598e-02\n",
      "     8.55391920e-02  7.91513622e-02  2.89749168e-02  5.38027808e-02\n",
      "    -8.52788910e-02 -2.59602070e-01  6.71519637e-02  6.49387762e-02\n",
      "    -7.46260583e-02  9.80479419e-02 -1.23128027e-01 -9.93565843e-03\n",
      "    -1.02872863e-01 -1.00936703e-01 -7.84054771e-02 -5.57938963e-02\n",
      "    -8.16508383e-02  1.46969547e-02 -5.01503870e-02 -2.46181972e-02\n",
      "    -9.55854654e-02 -7.82036558e-02 -4.65884320e-02 -8.58652070e-02]]\n",
      "\n",
      "  [[ 7.56840929e-02  7.68929198e-02  4.95983753e-03 -6.46168739e-02\n",
      "     7.36990944e-02  1.41170295e-03 -1.92109570e-02  4.35864255e-02\n",
      "     5.82716428e-02 -2.91609708e-02  5.96468225e-02  1.86578035e-02\n",
      "    -8.71290118e-02 -1.68445513e-01 -7.58545846e-02 -4.39906269e-02\n",
      "    -5.46364486e-02 -6.81140274e-02 -2.05184314e-02 -1.00255899e-01\n",
      "     3.84026440e-03 -4.05870788e-02 -9.66825429e-03  6.81310669e-02\n",
      "    -1.44391030e-01 -7.12063685e-02 -9.85388085e-02  3.90996262e-02\n",
      "     1.77185144e-03  4.64298874e-02  5.66817969e-02 -4.45525423e-02]]\n",
      "\n",
      "  [[ 2.95848474e-02  2.43825302e-03  4.31445092e-02 -3.16496491e-02\n",
      "     2.67806109e-02 -4.77060787e-02  8.23951513e-02  4.12638821e-02\n",
      "    -1.14031352e-01 -1.28979683e-02  3.61809768e-02  4.65110913e-02\n",
      "    -7.48735070e-02 -1.11308478e-01  5.81119023e-02  7.64947981e-02\n",
      "    -1.76814441e-02 -3.27263549e-02 -9.50692520e-02 -3.21272970e-03\n",
      "     7.68104866e-02  7.75326695e-03 -5.75565249e-02  1.02863759e-02\n",
      "    -1.67725217e-02  5.89141399e-02 -1.04511380e-01 -4.22946271e-03\n",
      "    -8.40500090e-03  4.97576185e-02 -5.25463000e-03 -3.55532616e-02]]\n",
      "\n",
      "  [[-2.79475134e-02 -7.90053532e-02 -9.00284648e-02  3.62208635e-02\n",
      "    -6.02202080e-02  4.11102027e-02  8.79252777e-02 -1.87499616e-02\n",
      "    -1.30933434e-01  3.17490548e-02  1.21805295e-02  2.35151835e-02\n",
      "    -3.09276395e-02 -5.91912270e-02 -1.07495725e-01 -5.53694961e-04\n",
      "     1.56445727e-02 -1.12595670e-01 -2.68381611e-02 -4.36237548e-03\n",
      "    -7.32269809e-02  7.95240700e-02  4.83132116e-02 -4.00844626e-02\n",
      "     4.43936745e-03 -4.77142408e-02  7.16368854e-02  6.03876635e-02\n",
      "    -1.70244947e-02  1.23365717e-02 -1.12766158e-02  1.44115016e-02]]]]\n"
     ]
    }
   ],
   "source": [
    "weights = cnn_model2.layers[0].get_weights()[0]\n",
    "biases = cnn_model2.layers[0].get_weights()[1]\n",
    "print(\"Biases: \",biases)\n",
    "\n",
    "print(\"Weights: \",weights)\n",
    "\n",
    "\n",
    "\n",
    "\n",
    "\n"
   ]
  },
  {
   "cell_type": "markdown",
   "metadata": {},
   "source": [
    "## Some incorrect classifications: \n",
    "\n"
   ]
  },
  {
   "cell_type": "code",
   "execution_count": 12,
   "metadata": {},
   "outputs": [
    {
     "data": {
      "image/png": "[encoded data removed]",
      "text/plain": [
       "<Figure size 432x288 with 3 Axes>"
      ]
     },
     "metadata": {
      "needs_background": "light"
     },
     "output_type": "display_data"
    }
   ],
   "source": [
    "predictions = cnn_model2.predict_classes(x_test)\n",
    "\n",
    "test_labels = [np.where(r==1)[0][0] for r in y_test]\n",
    "flag = 0\n",
    "i = 0\n",
    "\n",
    "while flag<3 and i<len(test_labels):\n",
    "    \n",
    "    if(predictions[i]!=test_labels[i]):\n",
    "        plt.subplot(330 + (flag+1))\n",
    "        plt.imshow(x_train[i].reshape(28,28), cmap=plt.get_cmap('gray'))\n",
    "        plt.xlabel(\"Predicted: \"+str(predictions[i]))\n",
    "        flag+=1\n",
    "    i+=1"
   ]
  },
  {
   "cell_type": "markdown",
   "metadata": {},
   "source": [
    "## Insight into classifier:\n",
    "The classifier performs well across all classes.\n"
   ]
  },
  {
   "cell_type": "code",
   "execution_count": 13,
   "metadata": {},
   "outputs": [
    {
     "name": "stdout",
     "output_type": "stream",
     "text": [
      "              precision    recall  f1-score   support\n",
      "\n",
      "     Class 0       0.99      0.99      0.99       980\n",
      "     Class 1       0.99      1.00      0.99      1135\n",
      "     Class 2       1.00      0.99      0.99      1032\n",
      "     Class 3       0.95      1.00      0.97      1010\n",
      "     Class 4       0.99      0.99      0.99       982\n",
      "     Class 5       0.99      0.99      0.99       892\n",
      "     Class 6       0.99      0.99      0.99       958\n",
      "     Class 7       0.99      0.99      0.99      1028\n",
      "     Class 8       1.00      0.99      0.99       974\n",
      "     Class 9       1.00      0.96      0.98      1009\n",
      "\n",
      "   micro avg       0.99      0.99      0.99     10000\n",
      "   macro avg       0.99      0.99      0.99     10000\n",
      "weighted avg       0.99      0.99      0.99     10000\n",
      "\n"
     ]
    }
   ],
   "source": [
    "num_classes = 10\n",
    "correct = np.nonzero(predictions==test_labels)[0]\n",
    "incorrect = np.nonzero(predictions!=test_labels)[0]\n",
    "target_names = [\"Class {}\".format(i) for i in range(num_classes)]\n",
    "\n",
    "print(classification_report(test_labels, predictions, target_names=target_names))\n",
    "\n",
    "\n"
   ]
  }
 ],
 "metadata": {
  "kernelspec": {
   "display_name": "Python 3",
   "language": "python",
   "name": "python3"
  },
  "language_info": {
   "codemirror_mode": {
    "name": "ipython",
    "version": 3
   },
   "file_extension": ".py",
   "mimetype": "text/x-python",
   "name": "python",
   "nbconvert_exporter": "python",
   "pygments_lexer": "ipython3",
   "version": "3.6.6"
  }
 },
 "nbformat": 4,
 "nbformat_minor": 2
}
