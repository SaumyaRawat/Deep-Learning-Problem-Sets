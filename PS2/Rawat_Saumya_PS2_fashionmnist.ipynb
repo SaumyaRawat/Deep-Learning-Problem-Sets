{
 "cells": [
  {
   "cell_type": "code",
   "execution_count": 10,
   "metadata": {},
   "outputs": [],
   "source": [
    "import numpy as np\n",
    "\n",
    "from sklearn.model_selection import train_test_split\n",
    "from sklearn.preprocessing import StandardScaler\n",
    "from sklearn.metrics import classification_report\n",
    "\n",
    "import keras\n",
    "from keras.models import Sequential\n",
    "from keras.layers import Dense, Activation, Dropout, Flatten, Conv2D, MaxPooling2D\n",
    "from keras.optimizers import Adam\n",
    "from keras.callbacks import TensorBoard\n",
    "from keras.layers import Dense\n",
    "from keras.utils import to_categorical\n",
    "\n",
    "import warnings\n",
    "warnings.filterwarnings('ignore')\n",
    "\n",
    "import matplotlib.pyplot as plt\n",
    "\n",
    "\n",
    "\n"
   ]
  },
  {
   "cell_type": "markdown",
   "metadata": {},
   "source": [
    "## Load Data"
   ]
  },
  {
   "cell_type": "code",
   "execution_count": 2,
   "metadata": {},
   "outputs": [],
   "source": [
    "x_train = np.load(\"Fashion MNIST/trainImages.npy\")\n",
    "x_test =  np.load(\"Fashion MNIST/testImages.npy\")\n",
    "y_train = np.load(\"Fashion MNIST/trainLabels.npy\")\n",
    "y_test = np.load(\"Fashion MNIST/testLabels.npy\")\n"
   ]
  },
  {
   "cell_type": "markdown",
   "metadata": {},
   "source": [
    "## Pre-process data\n",
    "1. Standardize dataset\n",
    "2. Ensure shape is compatible with required format for tensorflow:  (batch, height, width, channels)\n"
   ]
  },
  {
   "cell_type": "code",
   "execution_count": 3,
   "metadata": {},
   "outputs": [
    {
     "name": "stdout",
     "output_type": "stream",
     "text": [
      "Size of training set:  (48000, 28, 28, 1)\n",
      "Some examples of the training set:\n"
     ]
    },
    {
     "data": {
      "image/png": "[encoded data removed]",
      "text/plain": [
       "<Figure size 432x288 with 3 Axes>"
      ]
     },
     "metadata": {
      "needs_background": "light"
     },
     "output_type": "display_data"
    }
   ],
   "source": [
    "# Pre process data\n",
    "\n",
    "# Normalize\n",
    "x_train = x_train[:,0:]/255\n",
    "x_test= x_test[:,0:]/255\n",
    "\n",
    "x_train,x_validate,y_train,y_validate = train_test_split(x_train,y_train,test_size = 0.2,random_state = 12345)\n",
    "\n",
    "# Ensure Correct shape\n",
    "image_rows = 28\n",
    "image_cols = 28\n",
    "batch_size = 512\n",
    "image_shape = (image_rows,image_cols,1) # Defined the shape of the image as 3d with rows and columns and 1 for the 3d visualisation\n",
    "\n",
    "x_train = x_train.reshape(x_train.shape[0],*image_shape)\n",
    "x_test = x_test.reshape(x_test.shape[0],*image_shape)\n",
    "x_validate = x_validate.reshape(x_validate.shape[0],*image_shape)\n",
    "print(\"Size of training set: \",x_train.shape)\n",
    "\n",
    "print(\"Some examples of the training set:\")\n",
    "for i in range(0, 3):\n",
    "    plt.subplot(330 + (i+1))\n",
    "    plt.imshow(x_train[i].reshape(28,28), cmap=plt.get_cmap('gray'))\n",
    "\n",
    "\n",
    "\n"
   ]
  },
  {
   "cell_type": "markdown",
   "metadata": {},
   "source": [
    "## Define fully connected CNN\n",
    "\n",
    "### The three things I need to define in the CNN are:\n",
    "\n",
    "1. Convolution\n",
    "2. Activation\n",
    "3. Pooling\n",
    "\n",
    "In the first layer, 32 filters of (3, 3) size  with ReLU activation function is chosen to reduce training time and avoid  vanishing gradients. To reduce overfitting and training time, a MaxPooling layer is used to down-sample the input and dropout of 20% is added.\n",
    "To feed this as input to the fully connected layers, they are flattened.\n",
    "\n",
    "\n",
    "\n",
    "To now compute the probability distribution of the 10 classes, a dense layer with units equal to number of classes is added followed by softmax activation layer. The final class for each input will be the one with the highest probability in the softmax layer. \n"
   ]
  },
  {
   "cell_type": "code",
   "execution_count": 4,
   "metadata": {},
   "outputs": [
    {
     "name": "stdout",
     "output_type": "stream",
     "text": [
      "_________________________________________________________________\n",
      "Layer (type)                 Output Shape              Param #   \n",
      "=================================================================\n",
      "conv2d_1 (Conv2D)            (None, 26, 26, 32)        320       \n",
      "_________________________________________________________________\n",
      "max_pooling2d_1 (MaxPooling2 (None, 13, 13, 32)        0         \n",
      "_________________________________________________________________\n",
      "dropout_1 (Dropout)          (None, 13, 13, 32)        0         \n",
      "_________________________________________________________________\n",
      "flatten_1 (Flatten)          (None, 5408)              0         \n",
      "_________________________________________________________________\n",
      "dense_1 (Dense)              (None, 32)                173088    \n",
      "_________________________________________________________________\n",
      "dense_2 (Dense)              (None, 10)                330       \n",
      "_________________________________________________________________\n",
      "activation_1 (Activation)    (None, 10)                0         \n",
      "=================================================================\n",
      "Total params: 173,738\n",
      "Trainable params: 173,738\n",
      "Non-trainable params: 0\n",
      "_________________________________________________________________\n"
     ]
    }
   ],
   "source": [
    "# Define the Sequential CNN\n",
    "num_classes = 10\n",
    "epochs = 5\n",
    "\n",
    "cnn_model = Sequential([\n",
    "    Conv2D(32, (3,3), activation='relu', input_shape = image_shape),\n",
    "    MaxPooling2D(pool_size=2),# down sampling the output instead of 28*28 it is 14*14\n",
    "    Dropout(0.2),\n",
    "    Flatten(), # flatten out the layers\n",
    "    Dense(units=32, activation='relu'),\n",
    "    Dense(units=num_classes),\n",
    "    Activation('softmax')\n",
    "])\n",
    "\n",
    "\n",
    "# Initialize and compile: \n",
    "keras.initializers.TruncatedNormal(mean=0.0, stddev=0.05, seed=None)\n",
    "\n",
    "cnn_model.compile(loss ='categorical_crossentropy', optimizer=Adam(lr=0.001),metrics =['accuracy'])\n",
    "cnn_model.summary()\n"
   ]
  },
  {
   "cell_type": "markdown",
   "metadata": {},
   "source": [
    "## Train model"
   ]
  },
  {
   "cell_type": "code",
   "execution_count": 5,
   "metadata": {},
   "outputs": [
    {
     "name": "stdout",
     "output_type": "stream",
     "text": [
      "Train on 48000 samples, validate on 12000 samples\n",
      "Epoch 1/50\n",
      "48000/48000 [==============================] - 10s 201us/step - loss: 0.7484 - acc: 0.7487 - val_loss: 0.4687 - val_acc: 0.8368\n",
      "Epoch 2/50\n",
      "48000/48000 [==============================] - 10s 201us/step - loss: 0.4344 - acc: 0.8485 - val_loss: 0.3821 - val_acc: 0.8728\n",
      "Epoch 3/50\n",
      "48000/48000 [==============================] - 10s 200us/step - loss: 0.3802 - acc: 0.8669 - val_loss: 0.3381 - val_acc: 0.8858\n",
      "Epoch 4/50\n",
      "48000/48000 [==============================] - 10s 200us/step - loss: 0.3480 - acc: 0.8776 - val_loss: 0.3146 - val_acc: 0.8930\n",
      "Epoch 5/50\n",
      "48000/48000 [==============================] - 10s 203us/step - loss: 0.3290 - acc: 0.8845 - val_loss: 0.3028 - val_acc: 0.8958\n",
      "Epoch 6/50\n",
      "48000/48000 [==============================] - 10s 203us/step - loss: 0.3137 - acc: 0.8888 - val_loss: 0.2936 - val_acc: 0.8981\n",
      "Epoch 7/50\n",
      "48000/48000 [==============================] - 10s 205us/step - loss: 0.2988 - acc: 0.8954 - val_loss: 0.2847 - val_acc: 0.9012\n",
      "Epoch 8/50\n",
      "48000/48000 [==============================] - 10s 203us/step - loss: 0.2902 - acc: 0.8983 - val_loss: 0.2767 - val_acc: 0.9038\n",
      "Epoch 9/50\n",
      "48000/48000 [==============================] - 10s 203us/step - loss: 0.2823 - acc: 0.8990 - val_loss: 0.2722 - val_acc: 0.9058\n",
      "Epoch 10/50\n",
      "48000/48000 [==============================] - 10s 203us/step - loss: 0.2736 - acc: 0.9037 - val_loss: 0.2669 - val_acc: 0.9064\n",
      "Epoch 11/50\n",
      "48000/48000 [==============================] - 10s 203us/step - loss: 0.2709 - acc: 0.9043 - val_loss: 0.2697 - val_acc: 0.9060\n",
      "Epoch 12/50\n",
      "48000/48000 [==============================] - 10s 203us/step - loss: 0.2623 - acc: 0.9064 - val_loss: 0.2588 - val_acc: 0.9081\n",
      "Epoch 13/50\n",
      "48000/48000 [==============================] - 10s 205us/step - loss: 0.2548 - acc: 0.9096 - val_loss: 0.2561 - val_acc: 0.9106\n",
      "Epoch 14/50\n",
      "48000/48000 [==============================] - 10s 204us/step - loss: 0.2499 - acc: 0.9106 - val_loss: 0.2498 - val_acc: 0.9127\n",
      "Epoch 15/50\n",
      "48000/48000 [==============================] - 10s 205us/step - loss: 0.2447 - acc: 0.9120 - val_loss: 0.2478 - val_acc: 0.9139\n",
      "Epoch 16/50\n",
      "48000/48000 [==============================] - 10s 210us/step - loss: 0.2393 - acc: 0.9138 - val_loss: 0.2562 - val_acc: 0.9109\n",
      "Epoch 17/50\n",
      "48000/48000 [==============================] - 10s 209us/step - loss: 0.2353 - acc: 0.9159 - val_loss: 0.2463 - val_acc: 0.9126\n",
      "Epoch 18/50\n",
      "48000/48000 [==============================] - 10s 209us/step - loss: 0.2347 - acc: 0.9150 - val_loss: 0.2446 - val_acc: 0.9142\n",
      "Epoch 19/50\n",
      "48000/48000 [==============================] - 10s 209us/step - loss: 0.2269 - acc: 0.9179 - val_loss: 0.2497 - val_acc: 0.9112\n",
      "Epoch 20/50\n",
      "48000/48000 [==============================] - 10s 207us/step - loss: 0.2251 - acc: 0.9189 - val_loss: 0.2475 - val_acc: 0.9122\n",
      "Epoch 21/50\n",
      "48000/48000 [==============================] - 10s 207us/step - loss: 0.2197 - acc: 0.9202 - val_loss: 0.2469 - val_acc: 0.9131\n",
      "Epoch 22/50\n",
      "48000/48000 [==============================] - 10s 207us/step - loss: 0.2177 - acc: 0.9210 - val_loss: 0.2405 - val_acc: 0.9146\n",
      "Epoch 23/50\n",
      "48000/48000 [==============================] - 10s 207us/step - loss: 0.2147 - acc: 0.9223 - val_loss: 0.2382 - val_acc: 0.9168\n",
      "Epoch 24/50\n",
      "48000/48000 [==============================] - 10s 207us/step - loss: 0.2106 - acc: 0.9233 - val_loss: 0.2382 - val_acc: 0.9150\n",
      "Epoch 25/50\n",
      "48000/48000 [==============================] - 10s 208us/step - loss: 0.2066 - acc: 0.9252 - val_loss: 0.2413 - val_acc: 0.9160\n",
      "Epoch 26/50\n",
      "48000/48000 [==============================] - 10s 206us/step - loss: 0.2060 - acc: 0.9247 - val_loss: 0.2501 - val_acc: 0.9091\n",
      "Epoch 27/50\n",
      "48000/48000 [==============================] - 10s 207us/step - loss: 0.2004 - acc: 0.9265 - val_loss: 0.2368 - val_acc: 0.9167\n",
      "Epoch 28/50\n",
      "48000/48000 [==============================] - 10s 206us/step - loss: 0.2022 - acc: 0.9258 - val_loss: 0.2369 - val_acc: 0.9163\n",
      "Epoch 29/50\n",
      "48000/48000 [==============================] - 10s 207us/step - loss: 0.1965 - acc: 0.9275 - val_loss: 0.2317 - val_acc: 0.9182\n",
      "Epoch 30/50\n",
      "48000/48000 [==============================] - 10s 208us/step - loss: 0.1936 - acc: 0.9293 - val_loss: 0.2303 - val_acc: 0.9183\n",
      "Epoch 31/50\n",
      "48000/48000 [==============================] - 10s 209us/step - loss: 0.1904 - acc: 0.9308 - val_loss: 0.2353 - val_acc: 0.9161\n",
      "Epoch 32/50\n",
      "48000/48000 [==============================] - 10s 208us/step - loss: 0.1887 - acc: 0.9295 - val_loss: 0.2390 - val_acc: 0.9166\n",
      "Epoch 33/50\n",
      "48000/48000 [==============================] - 10s 207us/step - loss: 0.1858 - acc: 0.9316 - val_loss: 0.2383 - val_acc: 0.9178\n",
      "Epoch 34/50\n",
      "48000/48000 [==============================] - 10s 207us/step - loss: 0.1860 - acc: 0.9322 - val_loss: 0.2330 - val_acc: 0.9180\n",
      "Epoch 35/50\n",
      "48000/48000 [==============================] - 10s 206us/step - loss: 0.1858 - acc: 0.9320 - val_loss: 0.2308 - val_acc: 0.9203\n",
      "Epoch 36/50\n",
      "48000/48000 [==============================] - 10s 209us/step - loss: 0.1786 - acc: 0.9335 - val_loss: 0.2376 - val_acc: 0.9180\n",
      "Epoch 37/50\n",
      "48000/48000 [==============================] - 10s 207us/step - loss: 0.1770 - acc: 0.9352 - val_loss: 0.2302 - val_acc: 0.9202\n",
      "Epoch 38/50\n",
      "48000/48000 [==============================] - 10s 206us/step - loss: 0.1713 - acc: 0.9365 - val_loss: 0.2295 - val_acc: 0.9217\n",
      "Epoch 39/50\n",
      "48000/48000 [==============================] - 10s 205us/step - loss: 0.1704 - acc: 0.9376 - val_loss: 0.2320 - val_acc: 0.9213\n",
      "Epoch 40/50\n",
      "48000/48000 [==============================] - 10s 206us/step - loss: 0.1683 - acc: 0.9375 - val_loss: 0.2318 - val_acc: 0.9206\n",
      "Epoch 41/50\n",
      "48000/48000 [==============================] - 10s 204us/step - loss: 0.1694 - acc: 0.9385 - val_loss: 0.2304 - val_acc: 0.9209\n",
      "Epoch 42/50\n",
      "48000/48000 [==============================] - 10s 206us/step - loss: 0.1675 - acc: 0.9373 - val_loss: 0.2447 - val_acc: 0.9179\n",
      "Epoch 43/50\n",
      "48000/48000 [==============================] - 10s 206us/step - loss: 0.1649 - acc: 0.9393 - val_loss: 0.2326 - val_acc: 0.9214\n",
      "Epoch 44/50\n",
      "48000/48000 [==============================] - 10s 204us/step - loss: 0.1625 - acc: 0.9398 - val_loss: 0.2336 - val_acc: 0.9222\n",
      "Epoch 45/50\n",
      "48000/48000 [==============================] - 10s 205us/step - loss: 0.1611 - acc: 0.9410 - val_loss: 0.2489 - val_acc: 0.9168\n",
      "Epoch 46/50\n",
      "48000/48000 [==============================] - 10s 208us/step - loss: 0.1609 - acc: 0.9407 - val_loss: 0.2411 - val_acc: 0.9190\n",
      "Epoch 47/50\n",
      "48000/48000 [==============================] - 10s 207us/step - loss: 0.1566 - acc: 0.9427 - val_loss: 0.2312 - val_acc: 0.9233\n",
      "Epoch 48/50\n",
      "48000/48000 [==============================] - 10s 209us/step - loss: 0.1552 - acc: 0.9426 - val_loss: 0.2332 - val_acc: 0.9228\n",
      "Epoch 49/50\n",
      "48000/48000 [==============================] - 10s 208us/step - loss: 0.1558 - acc: 0.9429 - val_loss: 0.2331 - val_acc: 0.9226\n",
      "Epoch 50/50\n",
      "48000/48000 [==============================] - 10s 206us/step - loss: 0.1502 - acc: 0.9445 - val_loss: 0.2334 - val_acc: 0.9223\n"
     ]
    }
   ],
   "source": [
    "batch_size = 512\n",
    "history = cnn_model.fit(\n",
    "    x_train,\n",
    "    y_train,\n",
    "    batch_size=batch_size,\n",
    "    epochs=50,\n",
    "    verbose=1,\n",
    "    validation_data=(x_validate,y_validate),\n",
    ")"
   ]
  },
  {
   "cell_type": "markdown",
   "metadata": {},
   "source": [
    "## Test Accuracy\n"
   ]
  },
  {
   "cell_type": "code",
   "execution_count": 6,
   "metadata": {},
   "outputs": [
    {
     "name": "stdout",
     "output_type": "stream",
     "text": [
      "Test Loss : 0.2688\n",
      "Test Accuracy : 0.9099\n"
     ]
    }
   ],
   "source": [
    "score = cnn_model.evaluate(x_test,y_test,verbose=0)\n",
    "print('Test Loss : {:.4f}'.format(score[0]))\n",
    "print('Test Accuracy : {:.4f}'.format(score[1]))\n"
   ]
  },
  {
   "cell_type": "markdown",
   "metadata": {},
   "source": [
    "## Visualizing the performance of the networks"
   ]
  },
  {
   "cell_type": "code",
   "execution_count": 7,
   "metadata": {},
   "outputs": [
    {
     "data": {
      "image/png": "[encoded data removed]",
      "text/plain": [
       "<Figure size 432x288 with 1 Axes>"
      ]
     },
     "metadata": {
      "needs_background": "light"
     },
     "output_type": "display_data"
    },
    {
     "data": {
      "image/png": "[encoded data removed]",
      "text/plain": [
       "<Figure size 432x288 with 1 Axes>"
      ]
     },
     "metadata": {
      "needs_background": "light"
     },
     "output_type": "display_data"
    }
   ],
   "source": [
    "accuracy = history.history['acc']\n",
    "val_accuracy = history.history['val_acc']\n",
    "loss = history.history['loss']\n",
    "val_loss = history.history['val_loss']\n",
    "epochs = range(len(accuracy))\n",
    "plt.plot(epochs, accuracy, 'g', label='Training Accuracy')\n",
    "plt.plot(epochs, val_accuracy, 'b', label='Validation Accuracy')\n",
    "plt.title('Training and Validation accuracy')\n",
    "plt.xlabel('epoch')\n",
    "plt.legend()\n",
    "\n",
    "\n",
    "plt.figure()\n",
    "plt.plot(epochs, loss, 'g', label='Training Loss')\n",
    "plt.plot(epochs, val_loss, 'b', label='Validation Loss')\n",
    "plt.title('Training and validation loss')\n",
    "plt.xlabel('epoch')\n",
    "plt.legend()\n",
    "plt.show()\n"
   ]
  },
  {
   "cell_type": "code",
   "execution_count": null,
   "metadata": {},
   "outputs": [],
   "source": []
  },
  {
   "cell_type": "markdown",
   "metadata": {},
   "source": [
    "## The weight and biases "
   ]
  },
  {
   "cell_type": "code",
   "execution_count": 8,
   "metadata": {},
   "outputs": [
    {
     "name": "stdout",
     "output_type": "stream",
     "text": [
      "Biases:  [ 2.4427457e-02 -4.2522079e-03 -6.4330414e-02 -5.1880851e-03\n",
      " -2.2464388e-03 -3.8801979e-02 -1.2056458e-02 -8.5907113e-03\n",
      " -8.6591858e-03 -2.7640400e-02 -5.4850504e-03  2.4020208e-01\n",
      " -7.5263339e-03 -6.0469545e-03 -1.2643597e-02 -1.8818969e-02\n",
      " -4.7184699e-03 -2.9269746e-03 -5.6124344e-03 -4.4146143e-03\n",
      " -1.1449256e-02 -5.4082353e-02 -8.9642918e-03 -6.3013140e-05\n",
      " -5.3220965e-02 -4.2744692e-02  7.6966368e-02 -1.4160090e-02\n",
      "  4.8436093e-04  4.1926391e-02  3.6277876e-03 -4.9293283e-03]\n",
      "Weights:  [[[[ 5.34256518e-01 -2.01075897e-03 -3.94030154e-01  1.22000739e-01\n",
      "    -3.00177991e-01 -2.98562050e-02  2.18357861e-01 -1.37834519e-01\n",
      "    -2.89976269e-01  1.34611353e-01  1.22983165e-01 -1.47286046e+00\n",
      "    -6.81809336e-02  1.72050414e-03  2.97805160e-01  2.23973215e-01\n",
      "     9.69712064e-03  6.93382174e-02 -3.69686961e-01  7.57497251e-02\n",
      "     1.67289019e-01 -9.76570975e-03 -2.18363896e-01 -1.37700841e-01\n",
      "     1.07391648e-01  2.38145348e-02 -3.88901740e-01 -8.83933306e-02\n",
      "     1.86424702e-01  1.75225675e-01 -2.73832828e-01 -3.30485374e-01]]\n",
      "\n",
      "  [[ 3.94743741e-01  2.60608256e-01 -1.85017318e-01 -4.65482883e-02\n",
      "     1.21264592e-01  1.24733016e-01 -3.82056773e-01  6.82762787e-02\n",
      "    -1.63103655e-01 -3.43172938e-01 -2.16518030e-01 -7.23162830e-01\n",
      "     3.09035808e-01  3.60375673e-01 -1.11548334e-01  6.59770593e-02\n",
      "     1.15845986e-01  3.11852634e-01  1.67329103e-01  2.88234591e-01\n",
      "     9.60481837e-02  1.15531772e-01 -1.36352703e-01 -2.20507145e-01\n",
      "    -1.73221782e-01 -3.93128991e-02 -9.32025254e-01  1.24598943e-01\n",
      "     6.68741763e-02  3.15912306e-01 -3.19691628e-01  1.23135865e-01]]\n",
      "\n",
      "  [[-1.20472029e-01 -2.55544364e-01  2.61314481e-01  3.62100825e-02\n",
      "    -8.47331434e-03  1.17766038e-01  4.69174534e-02  8.61665010e-02\n",
      "     2.03525558e-01  2.96762496e-01  1.25142455e-01  3.08548540e-01\n",
      "    -2.25165129e-01  1.69400454e-01 -3.66727173e-01  9.72309187e-02\n",
      "     1.16298221e-01 -5.07738767e-03  2.04202652e-01  4.68421221e-01\n",
      "    -2.09875628e-02 -1.21108115e-01  3.56679827e-01 -4.08918381e-01\n",
      "    -3.15027870e-02 -4.09120202e-01 -8.95545483e-01 -1.44084841e-01\n",
      "    -2.27906495e-01 -1.64286882e-01  1.32072950e-02  2.40789533e-01]]]\n",
      "\n",
      "\n",
      " [[[-3.57866973e-01  1.41932713e-02 -1.60541326e-01 -3.11440498e-01\n",
      "    -1.39113357e-02  1.27143621e-01  2.61553586e-01 -3.22433978e-01\n",
      "     1.59095749e-01  3.81033331e-01  4.82639708e-02 -1.59774864e+00\n",
      "    -3.08377326e-01  2.47637972e-01  1.79510131e-01  2.10148171e-01\n",
      "    -1.25044003e-01 -2.31127307e-01  1.06221922e-01  1.79704948e-04\n",
      "     1.92082271e-01 -1.73877813e-02 -4.25024442e-02  6.99015036e-02\n",
      "     8.95646065e-02 -2.34569281e-01  1.77239910e-01  2.56173402e-01\n",
      "     3.07493657e-01  4.64530289e-01  1.97633728e-01 -2.40891993e-01]]\n",
      "\n",
      "  [[ 1.30494297e-01  1.56339899e-01  2.77855217e-01 -1.17008410e-01\n",
      "     1.69552758e-01  6.27880022e-02  9.86493975e-02  3.07790935e-01\n",
      "    -2.54042655e-01 -2.55715311e-01 -2.60574341e-01 -9.50383067e-01\n",
      "     3.99764210e-01  9.37810019e-02  2.43691549e-01 -1.01589195e-01\n",
      "     7.37782568e-02  2.80554630e-02  6.39103949e-02 -3.57035324e-02\n",
      "    -1.43194631e-01  4.87467758e-02 -1.46770626e-01  2.81544119e-01\n",
      "     1.01659544e-01  2.36225221e-02 -1.49937272e-01  1.24843316e-02\n",
      "     6.83150887e-02 -2.06301048e-01  5.40276095e-02  2.70388752e-01]]\n",
      "\n",
      "  [[ 2.29038000e-01 -1.72831714e-01  6.15265779e-02 -3.81031372e-02\n",
      "     2.99979419e-01 -7.89699405e-02 -3.92549723e-01  1.38830394e-03\n",
      "     3.44441414e-01  1.35834366e-01  2.11097673e-01 -7.78621957e-02\n",
      "    -8.73427168e-02 -2.49743998e-01  4.57475901e-01 -4.06470865e-01\n",
      "     2.01780096e-01 -1.57330111e-01 -1.70280531e-01 -3.35447520e-01\n",
      "     3.03708408e-02  2.14420818e-02  2.02391490e-01  1.05304852e-01\n",
      "    -1.69484362e-01 -1.48018315e-01 -3.37575465e-01 -3.76216590e-01\n",
      "    -3.44444573e-01 -8.25855017e-01  2.56158859e-01 -5.23699336e-02]]]\n",
      "\n",
      "\n",
      " [[[-5.18754363e-01  2.79686917e-02  1.95878699e-01  1.18001550e-01\n",
      "    -2.77148217e-01 -2.95463484e-02 -1.20982528e-01  9.90996510e-02\n",
      "    -1.69507712e-02  2.42550761e-01 -3.34737860e-02 -2.82441825e-01\n",
      "    -1.54468372e-01 -1.67579368e-01 -2.98976362e-01 -4.70674574e-01\n",
      "    -2.93214589e-01 -4.66607101e-02  2.67668515e-01 -9.33176652e-02\n",
      "    -2.33027395e-02  8.88239592e-03  3.42213422e-01  7.74702579e-02\n",
      "    -5.28096929e-02  6.40768185e-02  3.16383004e-01  1.93891063e-01\n",
      "     2.34781653e-01  8.78808573e-02 -2.61119455e-01  6.50053173e-02]]\n",
      "\n",
      "  [[-7.66489327e-01  1.74935579e-01  3.78987521e-01  1.98522940e-01\n",
      "    -2.28772655e-01 -1.38702914e-01  5.51152863e-02  1.81990981e-01\n",
      "    -1.22554183e-01 -2.68457532e-01 -2.18312621e-01 -2.06905175e-02\n",
      "     6.57205805e-02 -2.33692139e-01 -4.17125165e-01  1.33307710e-01\n",
      "     3.46258283e-02  2.10798278e-01 -2.06412330e-01 -2.67948627e-01\n",
      "    -1.72940239e-01  7.34095946e-02 -1.05805688e-01 -5.00718094e-02\n",
      "     1.36194989e-01  3.33335936e-01  5.19172192e-01  2.38559753e-01\n",
      "    -1.37593165e-01 -4.23562795e-01  9.30136293e-02  6.83835447e-02]]\n",
      "\n",
      "  [[-3.54918391e-01 -2.03938350e-01 -3.85152221e-01  5.25189452e-02\n",
      "     1.11267097e-01 -6.51879758e-02  2.32405841e-01 -2.91895479e-01\n",
      "     1.49176255e-01 -3.19147676e-01  2.21515194e-01  2.01742321e-01\n",
      "     7.91218281e-02 -2.36464351e-01 -7.70007223e-02  2.70461053e-01\n",
      "    -7.49135315e-02 -1.77757159e-01 -6.54558167e-02 -8.03086683e-02\n",
      "    -9.18995738e-02  7.31256753e-02 -2.42143795e-01  2.96251297e-01\n",
      "     1.14963643e-01  3.68670732e-01 -2.13269994e-01 -1.98509723e-01\n",
      "    -1.43602178e-01 -9.84473944e-01  2.09109783e-01 -1.41993523e-01]]]]\n"
     ]
    }
   ],
   "source": [
    "weights = cnn_model.layers[0].get_weights()[0]\n",
    "biases = cnn_model.layers[0].get_weights()[1]\n",
    "print(\"Biases: \",biases)\n",
    "\n",
    "print(\"Weights: \",weights)\n"
   ]
  },
  {
   "cell_type": "markdown",
   "metadata": {},
   "source": [
    "## Some incorrect classifications: \n",
    "\n"
   ]
  },
  {
   "cell_type": "code",
   "execution_count": 20,
   "metadata": {},
   "outputs": [
    {
     "data": {
      "image/png": "[encoded data removed]",
      "text/plain": [
       "<Figure size 432x288 with 3 Axes>"
      ]
     },
     "metadata": {
      "needs_background": "light"
     },
     "output_type": "display_data"
    }
   ],
   "source": [
    "predictions = cnn_model.predict_classes(x_test)\n",
    "test_labels = [np.where(r==1)[0][0] for r in y_test]\n",
    "flag = 0\n",
    "i = 0\n",
    "\n",
    "while flag<3 and i<len(test_labels):\n",
    "    \n",
    "    if(predictions[i]!=test_labels[i]):\n",
    "        plt.subplot(330 + (flag+1))\n",
    "        plt.imshow(x_train[i].reshape(28,28), cmap=plt.get_cmap('gray'))\n",
    "        plt.xlabel(\"Predicted: \"+str(predictions[i])+\" Class: \"+str(test_labels[i]))\n",
    "        flag+=1\n",
    "    i+=1\n",
    "    \n"
   ]
  },
  {
   "cell_type": "markdown",
   "metadata": {},
   "source": [
    "## Insight into classifier:\n",
    "1. It is visible from the following that the classifier does not perform well for Class 6. "
   ]
  },
  {
   "cell_type": "code",
   "execution_count": 21,
   "metadata": {},
   "outputs": [
    {
     "name": "stdout",
     "output_type": "stream",
     "text": [
      "             precision    recall  f1-score   support\n",
      "\n",
      "    Class 0       0.84      0.88      0.86      1000\n",
      "    Class 1       0.99      0.98      0.98      1000\n",
      "    Class 2       0.87      0.84      0.86      1000\n",
      "    Class 3       0.90      0.91      0.91      1000\n",
      "    Class 4       0.84      0.90      0.87      1000\n",
      "    Class 5       0.98      0.98      0.98      1000\n",
      "    Class 6       0.77      0.72      0.74      1000\n",
      "    Class 7       0.94      0.98      0.96      1000\n",
      "    Class 8       0.98      0.98      0.98      1000\n",
      "    Class 9       0.98      0.95      0.96      1000\n",
      "\n",
      "avg / total       0.91      0.91      0.91     10000\n",
      "\n"
     ]
    }
   ],
   "source": [
    "correct = np.nonzero(predictions==test_labels)[0]\n",
    "incorrect = np.nonzero(predictions!=test_labels)[0]\n",
    "target_names = [\"Class {}\".format(i) for i in range(num_classes)]\n",
    "\n",
    "print(classification_report(test_labels, predictions, target_names=target_names))\n",
    "\n"
   ]
  }
 ],
 "metadata": {
  "kernelspec": {
   "display_name": "Python 3",
   "language": "python",
   "name": "python3"
  },
  "language_info": {
   "codemirror_mode": {
    "name": "ipython",
    "version": 3
   },
   "file_extension": ".py",
   "mimetype": "text/x-python",
   "name": "python",
   "nbconvert_exporter": "python",
   "pygments_lexer": "ipython3",
   "version": "3.6.6"
  }
 },
 "nbformat": 4,
 "nbformat_minor": 2
}
