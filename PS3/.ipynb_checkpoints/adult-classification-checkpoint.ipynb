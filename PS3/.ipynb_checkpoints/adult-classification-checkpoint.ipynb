{
 "cells": [
  {
   "cell_type": "markdown",
   "metadata": {},
   "source": [
    "# <center> Binary Classification of Adults Dataset\n",
    "## <center> Using a MLP\n",
    "### <center> Saumya Rawat\n",
    "    \n",
    "\n"
   ]
  },
  {
   "cell_type": "code",
   "execution_count": 139,
   "metadata": {},
   "outputs": [],
   "source": [
    "import torch\n",
    "import torch.nn.functional as F\n",
    "import matplotlib.pyplot as plt\n",
    "import numpy as np\n",
    "import torch.utils.data as utils\n",
    "from sklearn.model_selection import train_test_split\n",
    "from torch.autograd import Variable\n",
    "from torch.utils.data import Dataset, DataLoader\n",
    "import random\n",
    "from sklearn.preprocessing import normalize"
   ]
  },
  {
   "cell_type": "markdown",
   "metadata": {},
   "source": [
    "# Dataset introduction and loading\n",
    "\n",
    "### The dataset consists of 45222 samples with 67 features. The dataset consists of 2 classes:\n",
    "1. Income <= 50k\n",
    "2. Income >= 50k\n",
    "\n",
    "The dataset consists of ~75% points of Income <= 50k. The dimensions consist of features like age, workclass, education, marital-status, occupation, relationship, race etc. These variables have been converted into dummy/indicator variables.\n",
    "\n",
    "The dataset is split with into test(25%) and train(75%) datasets. \n",
    "\n",
    "It is normalized along columns to account for different dimensions having different distributions. "
   ]
  },
  {
   "cell_type": "code",
   "execution_count": 140,
   "metadata": {},
   "outputs": [
    {
     "name": "stdout",
     "output_type": "stream",
     "text": [
      "Number of samples:  45222\n",
      "Dimension of samples:  67\n",
      "Number of samples of class 1 (<=50k):  75.21560302507629\n"
     ]
    }
   ],
   "source": [
    "data = np.load(\"Adult/data.npy\")\n",
    "labels = np.load(\"Adult/labels.npy\")\n",
    "\n",
    "data = normalize(data, axis=0, norm='l1')\n",
    "\n",
    "print(\"Number of samples: \", len(data))\n",
    "print(\"Dimension of samples: \", len(data[0]))\n",
    "n_dim = len(data[0])\n",
    "print(\"Number of samples of class 1 (<=50k): \",(len(np.where(labels==1)[0])/len(data))*100)\n",
    "\n",
    "# Train - test split\n",
    "X_train, X_test, y_train, y_test = train_test_split(data,labels, test_size = 0.25, random_state = 0)\n",
    "\n",
    "# Convert to torch tensor\n",
    "#X_train = torch.stack([torch.Tensor(i) for i in X_train]) # transform to torch tensors\n",
    "#y_train = torch.LongTensor(np.float64(y_train))\n",
    "\n",
    "#X_test = torch.stack([torch.Tensor(i) for i in X_test]) # transform to torch tensors\n",
    "#y_test = torch.LongTensor(np.float64(y_test))\n"
   ]
  },
  {
   "cell_type": "code",
   "execution_count": 141,
   "metadata": {},
   "outputs": [],
   "source": [
    "# Data pre processing\n",
    "class AdultDataset(Dataset):\n",
    "    '''Adult Dataset'''\n",
    "    def __init__(self, samples, labels, transform=None):\n",
    "        \"\"\"\n",
    "        Args:\n",
    "            transform (callable): Optional transform to apply to sample\n",
    "        \"\"\"\n",
    "        self.X = samples\n",
    "        self.Y = labels\n",
    "        self.transform = transform\n",
    "        \n",
    "    def __len__(self):\n",
    "        return len(self.X)\n",
    "    \n",
    "    def __getitem__(self, idx):\n",
    "        item = self.X[idx]\n",
    "        label = self.Y[idx]\n",
    "        if self.transform:\n",
    "            item = self.transform(item)\n",
    "        return (item, label)\n",
    "\n",
    "train_transform, test_transform = None, None\n",
    "#normalize = transforms.Normalize(mean=list(img_mean),\n",
    "#                                 std=list(img_std))\n",
    "train_dataset = AdultDataset(X_train, y_train, train_transform)\n",
    "test_dataset = AdultDataset(X_test, y_test, test_transform)\n",
    "\n"
   ]
  },
  {
   "cell_type": "code",
   "execution_count": 142,
   "metadata": {},
   "outputs": [],
   "source": [
    "# CUDA PARAMETERS\n",
    "if torch.cuda.is_available():\n",
    "    cuda0 = torch.device('cuda:0')  # CUDA GPU 0"
   ]
  },
  {
   "cell_type": "markdown",
   "metadata": {},
   "source": [
    "# The model\n",
    "\n",
    "For this binary classification task, a simple MLP is chosen with a swish activation function. A sigmoid activation function was initially used and it yielded a 82.9% test accuracy. \n"
   ]
  },
  {
   "cell_type": "code",
   "execution_count": 143,
   "metadata": {},
   "outputs": [],
   "source": [
    "def swish(x):\n",
    "    return (x*sigmoid(x))\n",
    "\n",
    "class Net(torch.nn.Module):\n",
    "    def __init__(self, n_feature, n_hidden, n_output):\n",
    "        super(Net, self).__init__()\n",
    "        self.hidden = torch.nn.Linear(n_feature, n_hidden)   # hidden layer\n",
    "        self.out = torch.nn.Linear(n_hidden, n_output)   # output layer\n",
    "\n",
    "    def forward(self, x):\n",
    "        # activation function for hidden layer\n",
    "        #x = sigmoid(self.hidden(x)) -> Gave 82.9 %     \n",
    "        x = swish(self.hidden(x))\n",
    "        x = x.view(x.size(0), -1)\n",
    "        #x = F.relu(self.hidden(x))\n",
    "        x = self.out(x)\n",
    "        return x"
   ]
  },
  {
   "cell_type": "markdown",
   "metadata": {},
   "source": [
    "# Loss function and optimizer\n",
    "\n",
    "Loss function used: Cross Entropy Loss Optimizer: \n",
    "\n",
    "An Adam optimizer with\n",
    "\n",
    "    num_epochs = 100\n",
    "    batch_size = 100\n",
    "    learning_rate = 0.001\n",
    "\n",
    "The SGD optimizer performed poorly for the given dataset."
   ]
  },
  {
   "cell_type": "code",
   "execution_count": 144,
   "metadata": {},
   "outputs": [
    {
     "name": "stdout",
     "output_type": "stream",
     "text": [
      "Using CUDA\n",
      "Net(\n",
      "  (hidden): Linear(in_features=67, out_features=20, bias=True)\n",
      "  (out): Linear(in_features=20, out_features=2, bias=True)\n",
      ")\n"
     ]
    }
   ],
   "source": [
    "net = Net(n_feature=67, n_hidden=20, n_output=2)     # define the network\n",
    "\n",
    "if torch.cuda.is_available():\n",
    "    print(\"Using CUDA\")\n",
    "    net.to(cuda0)\n",
    "\n",
    "#loss function and optimizer\n",
    "num_epochs = 150\n",
    "batch_size = 100\n",
    "learning_rate = 0.01\n",
    "sigmoid = torch.nn.Sigmoid()\n",
    "#optimizer = torch.optim.SGD(net.parameters(), lr=0.05) -> Gave maximum 78% accuracy\n",
    "optimizer = torch.optim.Adam(net.parameters(), lr = learning_rate)\n",
    "criterion = torch.nn.CrossEntropyLoss()  # the target label is NOT an one-hotted\n",
    "\n",
    "print(net) # net architecture\n"
   ]
  },
  {
   "cell_type": "markdown",
   "metadata": {},
   "source": [
    "# Training the model\n"
   ]
  },
  {
   "cell_type": "code",
   "execution_count": 145,
   "metadata": {},
   "outputs": [
    {
     "name": "stdout",
     "output_type": "stream",
     "text": [
      "Epoch : 1/150, Loss: 0.5606\n",
      "Epoch : 11/150, Loss: 0.3922\n",
      "Epoch : 21/150, Loss: 0.3707\n",
      "Epoch : 31/150, Loss: 0.3645\n",
      "Epoch : 41/150, Loss: 0.3631\n",
      "Epoch : 51/150, Loss: 0.3628\n",
      "Epoch : 61/150, Loss: 0.3621\n",
      "Epoch : 71/150, Loss: 0.3619\n",
      "Epoch : 81/150, Loss: 0.3613\n",
      "Epoch : 91/150, Loss: 0.3641\n",
      "Epoch : 101/150, Loss: 0.3590\n",
      "Epoch : 111/150, Loss: 0.3621\n",
      "Epoch : 121/150, Loss: 0.3603\n",
      "Epoch : 131/150, Loss: 0.3619\n",
      "Epoch : 141/150, Loss: 0.3596\n"
     ]
    }
   ],
   "source": [
    "plt.ion() # something about plotting\n",
    "train_losses = []\n",
    "train_accuracy = []\n",
    "\n",
    "\n",
    "train_loader = torch.utils.data.DataLoader(dataset=train_dataset, batch_size=batch_size, shuffle=True)\n",
    "test_loader = torch.utils.data.DataLoader(dataset=test_dataset, batch_size=batch_size, shuffle=True)\n",
    "\n",
    "torch.set_grad_enabled(True)\n",
    "\n",
    "for epoch in range(num_epochs):\n",
    "    train_acc = 0\n",
    "    train_loss = 0\n",
    "    t = 0\n",
    "\n",
    "    for i, (samples, labels) in enumerate(train_loader):\n",
    "        if torch.cuda.is_available():\n",
    "            samples = samples.to(cuda0)\n",
    "            labels = labels.to(cuda0)\n",
    "        samples = Variable(samples.float())\n",
    "        labels = Variable(labels.long())\n",
    "        \n",
    "        \n",
    "        # Forward + Backward + Optimize\n",
    "        optimizer.zero_grad()\n",
    "        outputs = net(samples)\n",
    "        \n",
    "        # LOSS\n",
    "        loss = criterion(outputs, labels)\n",
    "        loss.backward()\n",
    "        optimizer.step()\n",
    "        train_loss += loss.item()\n",
    "        \n",
    "        # ACCURACY\n",
    "        _, predicted = torch.max(outputs.data, 1)\n",
    "        pred_y = predicted.data.cpu().numpy().squeeze()\n",
    "        target_y = labels.cpu().data.numpy()\n",
    "        train_acc += (float((pred_y == target_y).astype(int).sum()) / float(target_y.size))\n",
    "        t+=1\n",
    "    train_accuracy.append(train_acc/t)\n",
    "    train_losses.append(train_loss/t)\n",
    "\n",
    "    if (epoch) % 10 == 0:\n",
    "        print ('Epoch : %d/%d, Loss: %.4f' %(epoch+1, num_epochs, (train_loss/t)))\n",
    "        "
   ]
  },
  {
   "cell_type": "markdown",
   "metadata": {},
   "source": [
    "# Testing the model\n",
    "\n",
    "### The final accuracy is 83.0084 %\n"
   ]
  },
  {
   "cell_type": "code",
   "execution_count": 146,
   "metadata": {},
   "outputs": [
    {
     "name": "stdout",
     "output_type": "stream",
     "text": [
      "Test Accuracy of the model on test images: 83.0084 %\n"
     ]
    }
   ],
   "source": [
    "net.eval()\n",
    "torch.no_grad()\n",
    "test_losses = []\n",
    "test_accuracy = []\n",
    "\n",
    "for epoch in range(num_epochs):\n",
    "\n",
    "    epoch_acc = 0\n",
    "    epoch_loss = 0\n",
    "    c = 0\n",
    "    \n",
    "    for samples, labels in test_loader:\n",
    "        if torch.cuda.is_available():\n",
    "            samples, labels = samples.to(cuda0), labels.to(cuda0)\n",
    "\n",
    "        samples = Variable(samples.float())\n",
    "        labels = Variable(labels.long())\n",
    "        \n",
    "        optimizer.zero_grad()\n",
    "        outputs = net(samples)\n",
    "        \n",
    "\n",
    "\n",
    "        # LOSS\n",
    "        loss = criterion(outputs, labels)\n",
    "        epoch_loss += loss.item()\n",
    "    \n",
    "    \n",
    "        # ACCURACY\n",
    "        _, predicted = torch.max(outputs.data, 1)\n",
    "        pred_y = predicted.data.cpu().numpy().squeeze()\n",
    "        target_y = labels.cpu().data.numpy()\n",
    "        epoch_acc += float((pred_y == target_y).astype(int).sum()) / float(target_y.size)\n",
    "        \n",
    "        c+=1\n",
    "    \n",
    "    test_accuracy.append(epoch_acc/c)\n",
    "    test_losses.append(epoch_loss/c)\n",
    "\n",
    "print('Test Accuracy of the model on test images: %.4f %%' % (100 * (sum(test_accuracy) / num_epochs)))\n"
   ]
  },
  {
   "cell_type": "code",
   "execution_count": 147,
   "metadata": {},
   "outputs": [
    {
     "data": {
      "text/plain": [
       "Text(0.5, 0, 'epoch')"
      ]
     },
     "execution_count": 147,
     "metadata": {},
     "output_type": "execute_result"
    },
    {
     "data": {
      "image/png": "[encoded data removed]",
      "text/plain": [
       "<Figure size 432x288 with 1 Axes>"
      ]
     },
     "metadata": {
      "needs_background": "light"
     },
     "output_type": "display_data"
    },
    {
     "data": {
      "image/png": "[encoded data removed]",
      "text/plain": [
       "<Figure size 432x288 with 1 Axes>"
      ]
     },
     "metadata": {
      "needs_background": "light"
     },
     "output_type": "display_data"
    }
   ],
   "source": [
    "epochs = range(num_epochs)\n",
    "\n",
    "plt.plot(epochs, train_accuracy, 'g', label='Training Accuracy')\n",
    "plt.plot(epochs, test_accuracy, 'b', label='Validation Accuracy')\n",
    "plt.title('Training and Validation accuracy')\n",
    "plt.xlabel('epoch')\n",
    "plt.legend()\n",
    "plt.figure()\n",
    "\n",
    "plt.plot(epochs, train_losses, 'g', label='Training Loss')\n",
    "plt.plot(epochs, test_losses, 'b', label='Validation Loss')\n",
    "plt.title('Training and validation loss')\n",
    "plt.xlabel('epoch')\n",
    "\n"
   ]
  },
  {
   "cell_type": "markdown",
   "metadata": {},
   "source": [
    "# Representative of the weight and biases\n"
   ]
  },
  {
   "cell_type": "code",
   "execution_count": 155,
   "metadata": {},
   "outputs": [
    {
     "name": "stdout",
     "output_type": "stream",
     "text": [
      "Layer hidden.weight\n",
      "tensor([[-80.1258, -16.4689, -44.4623,  ...,  10.1923,  -1.5453,   2.3294],\n",
      "        [ 80.8661,  17.3223,  44.2950,  ..., -10.1787,   0.5774,  -2.5861],\n",
      "        [ 81.1718,  18.3541,  45.2248,  ..., -12.0443,   1.1659,  -3.3578],\n",
      "        ...,\n",
      "        [ 81.5695,  18.9282,  45.8013,  ..., -13.1988,   1.6857,  -4.3031],\n",
      "        [ 81.3526,  18.0799,  45.1275,  ..., -11.7931,   1.0287,  -3.2719],\n",
      "        [-82.0758, -18.3151, -49.0600,  ...,  14.1016,  -2.6574,   3.9057]],\n",
      "       device='cuda:0')\n",
      "Layer hidden.bias\n",
      "tensor([0.0804, 0.0592, 0.1951, 0.1529, 0.2438, 0.0924, 0.0540, 0.3255, 0.0440,\n",
      "        0.0871, 0.1343, 0.0392, 0.1382, 0.2454, 0.2076, 0.3840, 0.0646, 0.2768,\n",
      "        0.1607, 0.4024], device='cuda:0')\n",
      "Layer out.weight\n",
      "tensor([[-2.3282,  3.1939,  3.9988,  3.8741, -3.4189,  3.5063,  3.1491, -4.2108,\n",
      "         -2.0398, -2.0391,  3.7973,  3.1506, -2.6622,  4.3063,  4.0833, -4.8412,\n",
      "         -2.1752,  4.5958,  3.8002, -5.1414],\n",
      "        [ 2.2425, -3.4290, -3.7157, -3.8741,  3.1282, -3.2741, -3.4208,  4.1247,\n",
      "          2.0198,  2.4133, -3.5090, -3.3862,  2.5768, -4.0855, -4.0721,  4.6716,\n",
      "          2.2323, -4.2898, -3.4909,  5.0191]], device='cuda:0')\n",
      "Layer out.bias\n",
      "tensor([-0.2696,  0.2800], device='cuda:0')\n"
     ]
    }
   ],
   "source": [
    "for k, v in net.state_dict().items():\n",
    "    print(\"Layer {}\".format(k))\n",
    "    print(v)\n",
    "    "
   ]
  },
  {
   "cell_type": "markdown",
   "metadata": {},
   "source": [
    "# Examples of datapoints that fail in the model\n",
    "\n"
   ]
  },
  {
   "cell_type": "code",
   "execution_count": 164,
   "metadata": {},
   "outputs": [
    {
     "name": "stdout",
     "output_type": "stream",
     "text": [
      "For sample number  0  :- Predicted:  1  Class:  0\n",
      "For sample number  1  :- Predicted:  1  Class:  0\n"
     ]
    }
   ],
   "source": [
    "flag = 0\n",
    "i = 0\n",
    "\n",
    "while flag<5 and i<len(pred_y):\n",
    "    if(pred_y[i]!=target_y[i]):\n",
    "        \n",
    "        print(\"For sample number \",i,\" :- Predicted: \",pred_y[i],\" Class: \",target_y[i])\n",
    "        flag+=1\n",
    "    i+=1\n",
    "    "
   ]
  }
 ],
 "metadata": {
  "kernelspec": {
   "display_name": "Python 3",
   "language": "python",
   "name": "python3"
  },
  "language_info": {
   "codemirror_mode": {
    "name": "ipython",
    "version": 3
   },
   "file_extension": ".py",
   "mimetype": "text/x-python",
   "name": "python",
   "nbconvert_exporter": "python",
   "pygments_lexer": "ipython3",
   "version": "3.6.6"
  }
 },
 "nbformat": 4,
 "nbformat_minor": 2
}
