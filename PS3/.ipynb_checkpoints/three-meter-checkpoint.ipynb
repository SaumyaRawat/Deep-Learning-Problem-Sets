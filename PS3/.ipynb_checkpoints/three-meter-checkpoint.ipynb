{
 "cells": [
  {
   "cell_type": "markdown",
   "metadata": {},
   "source": [
    "# <center> Autoencoder to encode Three Meter Dataset\n",
    "## <center> Using a simple 2-layer encoder\n",
    "### <center> Saumya Rawat\n",
    "    "
   ]
  },
  {
   "cell_type": "code",
   "execution_count": 1,
   "metadata": {},
   "outputs": [],
   "source": [
    "import os\n",
    "import numpy as np\n",
    "import torch\n",
    "import torchvision\n",
    "from torch import nn\n",
    "from torch.autograd import Variable\n",
    "from torch.utils.data import Dataset, DataLoader\n",
    "from sklearn.preprocessing import normalize"
   ]
  },
  {
   "cell_type": "markdown",
   "metadata": {},
   "source": [
    "# Dataset introduction and loading\n",
    "\n",
    "The dataset consists of magnetic field data in the three meter experiment, collected from the surface of a spinning ball of molten sodium designed to simulate the inner core of the earth in IREAP, University of Maryland.\n",
    "\n",
    "The data has been fit with a simple feed forward autoencoder with MAE loss. The data runs for 10 epochs with a batch size of 60 and a learning rate 0.0001\n"
   ]
  },
  {
   "cell_type": "code",
   "execution_count": 2,
   "metadata": {},
   "outputs": [],
   "source": [
    "# Hyper parameters\n",
    "num_epochs = 10\n",
    "batch_size = 60\n",
    "learning_rate = 0.00001"
   ]
  },
  {
   "cell_type": "code",
   "execution_count": 3,
   "metadata": {},
   "outputs": [],
   "source": [
    "in_data = np.genfromtxt('Three Meter/data.csv', delimiter=',')\n",
    "in_dim = len(in_data[0])\n",
    "\n",
    "data = normalize(in_data, axis=1, norm='l1')\n",
    "\n",
    "class ThreeMeterDataset(Dataset):\n",
    "    def __init__(self):\n",
    "        X = torch.stack([torch.Tensor(i) for i in data]) # transform to torch tensors\n",
    "        self.X = X\n",
    "        \n",
    "    def __len__(self):\n",
    "        return len(self.X)\n",
    "        \n",
    "    def __getitem__(self, index):\n",
    "        item = self.X[index]\n",
    "        return item\n",
    "\n",
    "\n",
    "# Data loader\n",
    "dataset = ThreeMeterDataset()\n",
    "data_loader = torch.utils.data.DataLoader(dataset=dataset,\n",
    "                                            batch_size=batch_size,\n",
    "                                            shuffle=True)"
   ]
  },
  {
   "cell_type": "markdown",
   "metadata": {},
   "source": [
    "With lowest dimension = 4\n"
   ]
  },
  {
   "cell_type": "code",
   "execution_count": 4,
   "metadata": {},
   "outputs": [],
   "source": [
    "class Autoencoder(nn.Module):\n",
    "    def __init__(self, in_dim=in_dim):\n",
    "        super(Autoencoder, self).__init__()\n",
    "\n",
    "        self.encoder = nn.Sequential(\n",
    "            nn.Linear(in_dim, 20),\n",
    "            nn.ReLU(),\n",
    "            nn.Linear(20, 16),\n",
    "            nn.ReLU(),\n",
    "            nn.Linear(16, 4),\n",
    "            nn.ReLU()\n",
    "            )\n",
    "\n",
    "        self.decoder = nn.Sequential(\n",
    "            nn.Linear(4, 16),\n",
    "            nn.ReLU(),\n",
    "            nn.Linear(16, 20),\n",
    "            nn.ReLU(),\n",
    "            nn.Linear(20,in_dim),\n",
    "            nn.Sigmoid()\n",
    "            )\n",
    "\n",
    "\n",
    "    def forward(self, x):\n",
    "        \"\"\"\n",
    "        Note: image dimension conversion will be handled by external methods\n",
    "        \"\"\"\n",
    "        out = self.encoder(x)\n",
    "        out = self.decoder(out)\n",
    "        return out\n",
    "\n",
    "def MAELoss(output, data):\n",
    "    batch_size = output.size()[0]\n",
    "    loss = torch.abs(output-data)\n",
    "    loss = loss.sum()/batch_size\n",
    "    return loss\n",
    "\n",
    "model = Autoencoder(in_dim=in_dim)\n",
    "if torch.cuda.is_available():\n",
    "    model.cuda()\n",
    "criterion = nn.L1Loss()\n",
    "optimizer = torch.optim.Adam(model.parameters(), lr=learning_rate)"
   ]
  },
  {
   "cell_type": "markdown",
   "metadata": {},
   "source": [
    "MAE loss achieved: 0.0001"
   ]
  },
  {
   "cell_type": "code",
   "execution_count": 5,
   "metadata": {},
   "outputs": [
    {
     "name": "stdout",
     "output_type": "stream",
     "text": [
      "epoch [1/10], loss:0.4333\n",
      "epoch [2/10], loss:0.3957\n",
      "epoch [3/10], loss:0.3398\n",
      "epoch [4/10], loss:0.2645\n",
      "epoch [5/10], loss:0.1764\n",
      "epoch [6/10], loss:0.0863\n",
      "epoch [7/10], loss:0.0220\n",
      "epoch [8/10], loss:0.0045\n",
      "epoch [9/10], loss:0.0005\n",
      "epoch [10/10], loss:0.0001\n"
     ]
    }
   ],
   "source": [
    "for epoch in range(num_epochs):\n",
    "    for data in data_loader:\n",
    "        if torch.cuda.is_available():\n",
    "            data = Variable(data).cuda()\n",
    "        # ===================forward=====================\n",
    "        output = model(data)\n",
    "        loss = criterion(output, data)\n",
    "        #loss = MAELoss(output, data)\n",
    "        # ===================backward====================\n",
    "        optimizer.zero_grad()\n",
    "        loss.backward()\n",
    "        optimizer.step()\n",
    "    # ===================log========================\n",
    "    print('epoch [{}/{}], loss:{:.4f}'\n",
    "          .format(epoch+1, num_epochs, loss.item()))\n"
   ]
  }
 ],
 "metadata": {
  "kernelspec": {
   "display_name": "Python 3",
   "language": "python",
   "name": "python3"
  },
  "language_info": {
   "codemirror_mode": {
    "name": "ipython",
    "version": 3
   },
   "file_extension": ".py",
   "mimetype": "text/x-python",
   "name": "python",
   "nbconvert_exporter": "python",
   "pygments_lexer": "ipython3",
   "version": "3.6.6"
  }
 },
 "nbformat": 4,
 "nbformat_minor": 2
}
